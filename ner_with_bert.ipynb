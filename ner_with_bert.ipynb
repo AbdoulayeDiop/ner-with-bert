{
  "cells": [
    {
      "cell_type": "markdown",
      "metadata": {
        "colab_type": "text",
        "id": "view-in-github"
      },
      "source": [
        "<a href=\"https://colab.research.google.com/github/AbdoulayeDiop/ner-with-bert/blob/main/ner_with_bert.ipynb\" target=\"_parent\"><img src=\"https://colab.research.google.com/assets/colab-badge.svg\" alt=\"Open In Colab\"/></a>"
      ]
    },
    {
      "cell_type": "code",
      "execution_count": 1,
      "metadata": {
        "colab": {
          "base_uri": "https://localhost:8080/"
        },
        "id": "0meRuvajZ8Tg",
        "outputId": "a752ceb5-37a6-4097-96d5-69d3a4c8cf0d"
      },
      "outputs": [
        {
          "name": "stdout",
          "output_type": "stream",
          "text": [
            "Defaulting to user installation because normal site-packages is not writeable\n",
            "Requirement already satisfied: transformers[torch] in c:\\users\\abdou\\appdata\\roaming\\python\\python310\\site-packages (4.42.3)\n",
            "Requirement already satisfied: datasets in c:\\users\\abdou\\appdata\\roaming\\python\\python310\\site-packages (2.20.0)\n",
            "Requirement already satisfied: evaluate in c:\\users\\abdou\\appdata\\roaming\\python\\python310\\site-packages (0.4.2)\n",
            "Requirement already satisfied: seqeval in c:\\users\\abdou\\appdata\\roaming\\python\\python310\\site-packages (1.2.2)\n",
            "Requirement already satisfied: numpy<2.0,>=1.17 in c:\\users\\abdou\\appdata\\roaming\\python\\python310\\site-packages (from transformers[torch]) (1.23.2)\n",
            "Requirement already satisfied: regex!=2019.12.17 in c:\\users\\abdou\\appdata\\roaming\\python\\python310\\site-packages (from transformers[torch]) (2024.5.15)\n",
            "Requirement already satisfied: packaging>=20.0 in c:\\users\\abdou\\appdata\\roaming\\python\\python310\\site-packages (from transformers[torch]) (23.2)\n",
            "Requirement already satisfied: huggingface-hub<1.0,>=0.23.2 in c:\\users\\abdou\\appdata\\roaming\\python\\python310\\site-packages (from transformers[torch]) (0.23.4)\n",
            "Requirement already satisfied: tqdm>=4.27 in c:\\users\\abdou\\appdata\\roaming\\python\\python310\\site-packages (from transformers[torch]) (4.66.4)\n",
            "Requirement already satisfied: tokenizers<0.20,>=0.19 in c:\\users\\abdou\\appdata\\roaming\\python\\python310\\site-packages (from transformers[torch]) (0.19.1)\n",
            "Requirement already satisfied: filelock in c:\\users\\abdou\\appdata\\roaming\\python\\python310\\site-packages (from transformers[torch]) (3.4.2)\n",
            "Requirement already satisfied: pyyaml>=5.1 in c:\\users\\abdou\\appdata\\roaming\\python\\python310\\site-packages (from transformers[torch]) (6.0.1)\n",
            "Requirement already satisfied: safetensors>=0.4.1 in c:\\users\\abdou\\appdata\\roaming\\python\\python310\\site-packages (from transformers[torch]) (0.4.3)\n",
            "Requirement already satisfied: requests in c:\\users\\abdou\\appdata\\roaming\\python\\python310\\site-packages (from transformers[torch]) (2.32.3)\n",
            "Requirement already satisfied: accelerate>=0.21.0 in c:\\users\\abdou\\appdata\\roaming\\python\\python310\\site-packages (from transformers[torch]) (0.31.0)\n",
            "Requirement already satisfied: torch in c:\\users\\abdou\\appdata\\roaming\\python\\python310\\site-packages (from transformers[torch]) (2.2.0+cu121)\n",
            "Requirement already satisfied: pandas in c:\\users\\abdou\\appdata\\roaming\\python\\python310\\site-packages (from datasets) (2.2.0)\n",
            "Requirement already satisfied: dill<0.3.9,>=0.3.0 in c:\\users\\abdou\\appdata\\roaming\\python\\python310\\site-packages (from datasets) (0.3.8)\n",
            "Requirement already satisfied: fsspec[http]<=2024.5.0,>=2023.1.0 in c:\\users\\abdou\\appdata\\roaming\\python\\python310\\site-packages (from datasets) (2023.12.2)\n",
            "Requirement already satisfied: pyarrow-hotfix in c:\\users\\abdou\\appdata\\roaming\\python\\python310\\site-packages (from datasets) (0.6)\n",
            "Requirement already satisfied: multiprocess in c:\\users\\abdou\\appdata\\roaming\\python\\python310\\site-packages (from datasets) (0.70.16)\n",
            "Requirement already satisfied: aiohttp in c:\\users\\abdou\\appdata\\roaming\\python\\python310\\site-packages (from datasets) (3.9.5)\n",
            "Requirement already satisfied: pyarrow>=15.0.0 in c:\\users\\abdou\\appdata\\roaming\\python\\python310\\site-packages (from datasets) (16.1.0)\n",
            "Requirement already satisfied: xxhash in c:\\users\\abdou\\appdata\\roaming\\python\\python310\\site-packages (from datasets) (3.4.1)\n",
            "Requirement already satisfied: scikit-learn>=0.21.3 in c:\\users\\abdou\\appdata\\roaming\\python\\python310\\site-packages (from seqeval) (1.5.0)\n",
            "Requirement already satisfied: psutil in c:\\users\\abdou\\appdata\\roaming\\python\\python310\\site-packages (from accelerate>=0.21.0->transformers[torch]) (5.9.8)\n",
            "Requirement already satisfied: yarl<2.0,>=1.0 in c:\\users\\abdou\\appdata\\roaming\\python\\python310\\site-packages (from aiohttp->datasets) (1.9.4)\n",
            "Requirement already satisfied: attrs>=17.3.0 in c:\\users\\abdou\\appdata\\roaming\\python\\python310\\site-packages (from aiohttp->datasets) (23.2.0)\n",
            "Requirement already satisfied: frozenlist>=1.1.1 in c:\\users\\abdou\\appdata\\roaming\\python\\python310\\site-packages (from aiohttp->datasets) (1.4.1)\n",
            "Requirement already satisfied: aiosignal>=1.1.2 in c:\\users\\abdou\\appdata\\roaming\\python\\python310\\site-packages (from aiohttp->datasets) (1.3.1)\n",
            "Requirement already satisfied: multidict<7.0,>=4.5 in c:\\users\\abdou\\appdata\\roaming\\python\\python310\\site-packages (from aiohttp->datasets) (6.0.5)\n",
            "Requirement already satisfied: async-timeout<5.0,>=4.0 in c:\\users\\abdou\\appdata\\roaming\\python\\python310\\site-packages (from aiohttp->datasets) (4.0.3)\n",
            "Requirement already satisfied: typing-extensions>=3.7.4.3 in c:\\users\\abdou\\appdata\\roaming\\python\\python310\\site-packages (from huggingface-hub<1.0,>=0.23.2->transformers[torch]) (4.8.0)\n",
            "Requirement already satisfied: charset-normalizer<4,>=2 in c:\\users\\abdou\\appdata\\roaming\\python\\python310\\site-packages (from requests->transformers[torch]) (2.0.10)\n",
            "Requirement already satisfied: idna<4,>=2.5 in c:\\users\\abdou\\appdata\\roaming\\python\\python310\\site-packages (from requests->transformers[torch]) (3.3)\n",
            "Requirement already satisfied: certifi>=2017.4.17 in c:\\users\\abdou\\appdata\\roaming\\python\\python310\\site-packages (from requests->transformers[torch]) (2021.10.8)\n",
            "Requirement already satisfied: urllib3<3,>=1.21.1 in c:\\users\\abdou\\appdata\\roaming\\python\\python310\\site-packages (from requests->transformers[torch]) (1.26.8)\n",
            "Requirement already satisfied: joblib>=1.2.0 in c:\\users\\abdou\\appdata\\roaming\\python\\python310\\site-packages (from scikit-learn>=0.21.3->seqeval) (1.4.2)\n",
            "Requirement already satisfied: scipy>=1.6.0 in c:\\users\\abdou\\appdata\\roaming\\python\\python310\\site-packages (from scikit-learn>=0.21.3->seqeval) (1.13.0)\n",
            "Requirement already satisfied: threadpoolctl>=3.1.0 in c:\\users\\abdou\\appdata\\roaming\\python\\python310\\site-packages (from scikit-learn>=0.21.3->seqeval) (3.5.0)\n",
            "Requirement already satisfied: networkx in c:\\users\\abdou\\appdata\\roaming\\python\\python310\\site-packages (from torch->transformers[torch]) (3.0)\n",
            "Requirement already satisfied: jinja2 in c:\\users\\abdou\\appdata\\roaming\\python\\python310\\site-packages (from torch->transformers[torch]) (3.1.2)\n",
            "Requirement already satisfied: sympy in c:\\users\\abdou\\appdata\\roaming\\python\\python310\\site-packages (from torch->transformers[torch]) (1.12)\n",
            "Requirement already satisfied: colorama in c:\\users\\abdou\\appdata\\roaming\\python\\python310\\site-packages (from tqdm>=4.27->transformers[torch]) (0.4.6)\n",
            "Requirement already satisfied: tzdata>=2022.7 in c:\\users\\abdou\\appdata\\roaming\\python\\python310\\site-packages (from pandas->datasets) (2023.4)\n",
            "Requirement already satisfied: pytz>=2020.1 in c:\\users\\abdou\\appdata\\roaming\\python\\python310\\site-packages (from pandas->datasets) (2023.4)\n",
            "Requirement already satisfied: python-dateutil>=2.8.2 in c:\\users\\abdou\\appdata\\roaming\\python\\python310\\site-packages (from pandas->datasets) (2.8.2)\n",
            "Requirement already satisfied: six>=1.5 in c:\\users\\abdou\\appdata\\roaming\\python\\python310\\site-packages (from python-dateutil>=2.8.2->pandas->datasets) (1.16.0)\n",
            "Requirement already satisfied: MarkupSafe>=2.0 in c:\\users\\abdou\\appdata\\roaming\\python\\python310\\site-packages (from jinja2->torch->transformers[torch]) (2.1.3)\n",
            "Requirement already satisfied: mpmath>=0.19 in c:\\users\\abdou\\appdata\\roaming\\python\\python310\\site-packages (from sympy->torch->transformers[torch]) (1.3.0)\n"
          ]
        },
        {
          "name": "stderr",
          "output_type": "stream",
          "text": [
            "WARNING: You are using pip version 22.0.4; however, version 24.1.1 is available.\n",
            "You should consider upgrading via the 'C:\\Program Files\\Python310\\python.exe -m pip install --upgrade pip' command.\n"
          ]
        }
      ],
      "source": [
        "!pip install transformers[torch] datasets evaluate seqeval"
      ]
    },
    {
      "cell_type": "code",
      "execution_count": 3,
      "metadata": {
        "id": "ngaGST1EYKLK"
      },
      "outputs": [
        {
          "name": "stderr",
          "output_type": "stream",
          "text": [
            "C:\\Users\\abdou\\AppData\\Roaming\\Python\\Python310\\site-packages\\tqdm\\auto.py:21: TqdmWarning: IProgress not found. Please update jupyter and ipywidgets. See https://ipywidgets.readthedocs.io/en/stable/user_install.html\n",
            "  from .autonotebook import tqdm as notebook_tqdm\n"
          ]
        }
      ],
      "source": [
        "from datasets import load_dataset\n",
        "\n",
        "dataset = load_dataset(\"eriktks/conll2003\", trust_remote_code=True)\n",
        "dataset['train'] = dataset['train'].shuffle(seed=42).select(range(1000))\n",
        "dataset['test'] = dataset['test'].shuffle(seed=42).select(range(1000))"
      ]
    },
    {
      "cell_type": "code",
      "execution_count": 4,
      "metadata": {
        "colab": {
          "base_uri": "https://localhost:8080/"
        },
        "id": "pQT9My_Baveb",
        "outputId": "317b50c8-ae49-47b2-90e0-99481168825a"
      },
      "outputs": [
        {
          "data": {
            "text/plain": [
              "DatasetDict({\n",
              "    train: Dataset({\n",
              "        features: ['id', 'tokens', 'pos_tags', 'chunk_tags', 'ner_tags'],\n",
              "        num_rows: 1000\n",
              "    })\n",
              "    validation: Dataset({\n",
              "        features: ['id', 'tokens', 'pos_tags', 'chunk_tags', 'ner_tags'],\n",
              "        num_rows: 3250\n",
              "    })\n",
              "    test: Dataset({\n",
              "        features: ['id', 'tokens', 'pos_tags', 'chunk_tags', 'ner_tags'],\n",
              "        num_rows: 3453\n",
              "    })\n",
              "})"
            ]
          },
          "execution_count": 4,
          "metadata": {},
          "output_type": "execute_result"
        }
      ],
      "source": [
        "dataset"
      ]
    },
    {
      "cell_type": "code",
      "execution_count": 5,
      "metadata": {
        "colab": {
          "base_uri": "https://localhost:8080/"
        },
        "id": "-eSjrjn8adW3",
        "outputId": "f266af97-65d5-40e0-ddbf-75484ba582e8"
      },
      "outputs": [
        {
          "data": {
            "text/plain": [
              "{'id': '1469',\n",
              " 'tokens': ['\"',\n",
              "  'Neither',\n",
              "  'the',\n",
              "  'National',\n",
              "  'Socialists',\n",
              "  '(',\n",
              "  'Nazis',\n",
              "  ')',\n",
              "  'nor',\n",
              "  'the',\n",
              "  'communists',\n",
              "  'dared',\n",
              "  'to',\n",
              "  'kidnap',\n",
              "  'an',\n",
              "  'American',\n",
              "  'citizen',\n",
              "  ',',\n",
              "  '\"',\n",
              "  'he',\n",
              "  'shouted',\n",
              "  ',',\n",
              "  'in',\n",
              "  'an',\n",
              "  'oblique',\n",
              "  'reference',\n",
              "  'to',\n",
              "  'his',\n",
              "  'extradition',\n",
              "  'to',\n",
              "  'Germany',\n",
              "  'from',\n",
              "  'Denmark',\n",
              "  '.',\n",
              "  '\"'],\n",
              " 'pos_tags': [0,\n",
              "  12,\n",
              "  12,\n",
              "  22,\n",
              "  23,\n",
              "  4,\n",
              "  23,\n",
              "  5,\n",
              "  10,\n",
              "  12,\n",
              "  24,\n",
              "  38,\n",
              "  35,\n",
              "  37,\n",
              "  12,\n",
              "  16,\n",
              "  21,\n",
              "  6,\n",
              "  0,\n",
              "  28,\n",
              "  38,\n",
              "  6,\n",
              "  15,\n",
              "  12,\n",
              "  16,\n",
              "  21,\n",
              "  35,\n",
              "  29,\n",
              "  21,\n",
              "  35,\n",
              "  22,\n",
              "  15,\n",
              "  22,\n",
              "  7,\n",
              "  0],\n",
              " 'chunk_tags': [0,\n",
              "  11,\n",
              "  11,\n",
              "  12,\n",
              "  12,\n",
              "  0,\n",
              "  11,\n",
              "  0,\n",
              "  0,\n",
              "  11,\n",
              "  12,\n",
              "  21,\n",
              "  22,\n",
              "  22,\n",
              "  11,\n",
              "  12,\n",
              "  12,\n",
              "  0,\n",
              "  0,\n",
              "  11,\n",
              "  21,\n",
              "  0,\n",
              "  13,\n",
              "  11,\n",
              "  12,\n",
              "  12,\n",
              "  13,\n",
              "  11,\n",
              "  12,\n",
              "  13,\n",
              "  11,\n",
              "  13,\n",
              "  11,\n",
              "  12,\n",
              "  0],\n",
              " 'ner_tags': [0,\n",
              "  0,\n",
              "  0,\n",
              "  7,\n",
              "  8,\n",
              "  0,\n",
              "  7,\n",
              "  0,\n",
              "  0,\n",
              "  0,\n",
              "  0,\n",
              "  0,\n",
              "  0,\n",
              "  0,\n",
              "  0,\n",
              "  7,\n",
              "  0,\n",
              "  0,\n",
              "  0,\n",
              "  0,\n",
              "  0,\n",
              "  0,\n",
              "  0,\n",
              "  0,\n",
              "  0,\n",
              "  0,\n",
              "  0,\n",
              "  0,\n",
              "  0,\n",
              "  0,\n",
              "  5,\n",
              "  0,\n",
              "  5,\n",
              "  0,\n",
              "  0]}"
            ]
          },
          "execution_count": 5,
          "metadata": {},
          "output_type": "execute_result"
        }
      ],
      "source": [
        "dataset[\"train\"][0]"
      ]
    },
    {
      "cell_type": "code",
      "execution_count": 6,
      "metadata": {
        "colab": {
          "base_uri": "https://localhost:8080/"
        },
        "id": "tGoPcEJSyonM",
        "outputId": "3c2ceec2-5c88-4e2a-c748-cfb84da6246c"
      },
      "outputs": [
        {
          "data": {
            "text/plain": [
              "['O', 'B-PER', 'I-PER', 'B-ORG', 'I-ORG', 'B-LOC', 'I-LOC', 'B-MISC', 'I-MISC']"
            ]
          },
          "execution_count": 6,
          "metadata": {},
          "output_type": "execute_result"
        }
      ],
      "source": [
        "label_list = dataset[\"train\"].features[f\"ner_tags\"].feature.names\n",
        "label_list"
      ]
    },
    {
      "cell_type": "code",
      "execution_count": 7,
      "metadata": {
        "id": "s-u1y8x5zzaJ"
      },
      "outputs": [],
      "source": [
        "from transformers import AutoTokenizer\n",
        "tokenizer = AutoTokenizer.from_pretrained(\"bert-base-uncased\")"
      ]
    },
    {
      "cell_type": "code",
      "execution_count": 8,
      "metadata": {
        "colab": {
          "base_uri": "https://localhost:8080/"
        },
        "id": "nmna1Bfj0S0A",
        "outputId": "694d5968-f708-46b6-d3da-28f7de6b3dda"
      },
      "outputs": [
        {
          "data": {
            "text/plain": [
              "['[CLS]',\n",
              " '\"',\n",
              " 'neither',\n",
              " 'the',\n",
              " 'national',\n",
              " 'socialists',\n",
              " '(',\n",
              " 'nazis',\n",
              " ')',\n",
              " 'nor',\n",
              " 'the',\n",
              " 'communists',\n",
              " 'dared',\n",
              " 'to',\n",
              " 'kidnap',\n",
              " 'an',\n",
              " 'american',\n",
              " 'citizen',\n",
              " ',',\n",
              " '\"',\n",
              " 'he',\n",
              " 'shouted',\n",
              " ',',\n",
              " 'in',\n",
              " 'an',\n",
              " 'oblique',\n",
              " 'reference',\n",
              " 'to',\n",
              " 'his',\n",
              " 'extra',\n",
              " '##dition',\n",
              " 'to',\n",
              " 'germany',\n",
              " 'from',\n",
              " 'denmark',\n",
              " '.',\n",
              " '\"',\n",
              " '[SEP]']"
            ]
          },
          "execution_count": 8,
          "metadata": {},
          "output_type": "execute_result"
        }
      ],
      "source": [
        "example = dataset[\"train\"][0]\n",
        "tokenized_input = tokenizer(example[\"tokens\"], is_split_into_words=True)\n",
        "tokens = tokenizer.convert_ids_to_tokens(tokenized_input[\"input_ids\"])\n",
        "tokens"
      ]
    },
    {
      "cell_type": "code",
      "execution_count": 9,
      "metadata": {
        "colab": {
          "base_uri": "https://localhost:8080/"
        },
        "id": "72jy8PqY89bb",
        "outputId": "a3e05fbc-3da5-4c1f-dde4-bc33e66468ee"
      },
      "outputs": [
        {
          "data": {
            "text/plain": [
              "[None,\n",
              " 0,\n",
              " 1,\n",
              " 2,\n",
              " 3,\n",
              " 4,\n",
              " 5,\n",
              " 6,\n",
              " 7,\n",
              " 8,\n",
              " 9,\n",
              " 10,\n",
              " 11,\n",
              " 12,\n",
              " 13,\n",
              " 14,\n",
              " 15,\n",
              " 16,\n",
              " 17,\n",
              " 18,\n",
              " 19,\n",
              " 20,\n",
              " 21,\n",
              " 22,\n",
              " 23,\n",
              " 24,\n",
              " 25,\n",
              " 26,\n",
              " 27,\n",
              " 28,\n",
              " 28,\n",
              " 29,\n",
              " 30,\n",
              " 31,\n",
              " 32,\n",
              " 33,\n",
              " 34,\n",
              " None]"
            ]
          },
          "execution_count": 9,
          "metadata": {},
          "output_type": "execute_result"
        }
      ],
      "source": [
        "tokenized_input.word_ids()"
      ]
    },
    {
      "cell_type": "code",
      "execution_count": 10,
      "metadata": {
        "id": "WqCudGSExKJu"
      },
      "outputs": [],
      "source": [
        "def tokenize_and_preserve_labels(sentence):\n",
        "    tokenized_sentence = tokenizer(sentence[\"tokens\"], is_split_into_words=True)\n",
        "    labels = []\n",
        "    for word_idx in tokenized_sentence.word_ids():\n",
        "        label = tokenized_input.word_ids\n",
        "        if word_idx is None:\n",
        "            labels.append(-100)\n",
        "        else:\n",
        "            labels.append(sentence[\"ner_tags\"][word_idx])\n",
        "    tokenized_sentence[\"labels\"] = labels\n",
        "    return tokenized_sentence"
      ]
    },
    {
      "cell_type": "code",
      "execution_count": 11,
      "metadata": {
        "colab": {
          "base_uri": "https://localhost:8080/"
        },
        "id": "8FwtpwGn3GWY",
        "outputId": "6bfe80dd-780e-4131-c53e-ee333f1c8b54"
      },
      "outputs": [
        {
          "name": "stdout",
          "output_type": "stream",
          "text": [
            "{'input_ids': [101, 1000, 4445, 1996, 2120, 21633, 1006, 13157, 1007, 4496, 1996, 13009, 15048, 2000, 22590, 2019, 2137, 6926, 1010, 1000, 2002, 6626, 1010, 1999, 2019, 20658, 4431, 2000, 2010, 4469, 20562, 2000, 2762, 2013, 5842, 1012, 1000, 102], 'token_type_ids': [0, 0, 0, 0, 0, 0, 0, 0, 0, 0, 0, 0, 0, 0, 0, 0, 0, 0, 0, 0, 0, 0, 0, 0, 0, 0, 0, 0, 0, 0, 0, 0, 0, 0, 0, 0, 0, 0], 'attention_mask': [1, 1, 1, 1, 1, 1, 1, 1, 1, 1, 1, 1, 1, 1, 1, 1, 1, 1, 1, 1, 1, 1, 1, 1, 1, 1, 1, 1, 1, 1, 1, 1, 1, 1, 1, 1, 1, 1], 'labels': [-100, 0, 0, 0, 7, 8, 0, 7, 0, 0, 0, 0, 0, 0, 0, 0, 7, 0, 0, 0, 0, 0, 0, 0, 0, 0, 0, 0, 0, 0, 0, 0, 5, 0, 5, 0, 0, -100]}\n"
          ]
        }
      ],
      "source": [
        "sentence = dataset[\"train\"][0]\n",
        "tokenized_sentence = tokenize_and_preserve_labels(sentence)\n",
        "print(tokenized_sentence)\n",
        "# print([dataset[\"train\"].features[f\"ner_tags\"].feature.names[label] for label in tokenized_sentence.labels if label >= 0])"
      ]
    },
    {
      "cell_type": "code",
      "execution_count": 12,
      "metadata": {
        "colab": {
          "base_uri": "https://localhost:8080/",
          "height": 113,
          "referenced_widgets": [
            "d7a8c622c362403fae8d87511fc5c2e4",
            "f7b3b987b9194653b580eb01bc3f2f1b",
            "bef466a5fb1346a6b6e520e901e6cbd8",
            "3c1de1b1c82349d683788639e7ac3bfd",
            "43bd5f6f58ad418e8a82940101929fd1",
            "bb074b6116eb412ea2f274363515d3bc",
            "7963f2a29adc4443bf3ffee316f27de5",
            "c92c45fc5cd04d44a816ea7e7ba38bb2",
            "3caaed743173467eb1eced8c77d32827",
            "b8bc47858fcd42cf8867657a5623976c",
            "6b6383f3d3674adaae82d9bb8a18c2f4",
            "e9bf2dba77a34fc785183cbd000f91b4",
            "12d4b11c3cf14324a2b37ae36654c3fa",
            "f750de2900c64b72bad32b3bda66d65f",
            "4df709c321e046eba459c9781f3bd114",
            "b17b352310d246a3bb81558adca1ee7a",
            "e42cfe12cec3420a9cac8ef816463c7d",
            "f43d68e20549490ca8b5d9c15831180e",
            "15af2ff9a7fd43348913f6100ec69e4d",
            "8edbedc615184165b62353b517799d44",
            "cbd3e447a6ff4d8195f2df06f991fb21",
            "558db325b7a24f02b5416cc5baab699a",
            "e00c3211bc2542c6817681d0ac3879e2",
            "d4672b323834446eb7d983048dbd1dc3",
            "32662dcbaec94a4c87a15b3babf775f2",
            "48cb7c4e1bf4415b95b26b9c849f9f62",
            "42567faaaa5840bd879fa62afad2f513",
            "72abe89069f54625a1d73768806c6342",
            "98d2a0bfb6db47a3a67a6a2770c29507",
            "c806f84c0c7e4383a11184040244c9b3",
            "c6f0a586d24940f1843033d8ba860db5",
            "6b9d5456542b44979fdb3ff80c15ca56",
            "b37a6f028c6b4f14a7a9ed58a4273d2e"
          ]
        },
        "id": "XL3n1P5n5RnO",
        "outputId": "41cda25b-08d4-4355-b098-193c3381780b"
      },
      "outputs": [],
      "source": [
        "tokenized_dataset = dataset.map(tokenize_and_preserve_labels)"
      ]
    },
    {
      "cell_type": "code",
      "execution_count": 13,
      "metadata": {
        "id": "mC2kvLGxXkXr"
      },
      "outputs": [],
      "source": [
        "from transformers import DataCollatorForTokenClassification\n",
        "data_collator = DataCollatorForTokenClassification(tokenizer=tokenizer)"
      ]
    },
    {
      "cell_type": "code",
      "execution_count": 14,
      "metadata": {
        "id": "QPKInIMrXr_W"
      },
      "outputs": [],
      "source": [
        "import evaluate\n",
        "seqeval = evaluate.load(\"seqeval\")"
      ]
    },
    {
      "cell_type": "code",
      "execution_count": 15,
      "metadata": {
        "id": "GowRejcPZv1g"
      },
      "outputs": [],
      "source": [
        "import numpy as np\n",
        "\n",
        "labels = [label_list[i] for i in example[f\"ner_tags\"]]\n",
        "def compute_metrics(p):\n",
        "    predictions, labels = p\n",
        "    predictions = np.argmax(predictions, axis=2)\n",
        "\n",
        "    true_predictions = [\n",
        "        [label_list[p] for (p, l) in zip(prediction, label) if l != -100]\n",
        "        for prediction, label in zip(predictions, labels)\n",
        "    ]\n",
        "    true_labels = [\n",
        "        [label_list[l] for (p, l) in zip(prediction, label) if l != -100]\n",
        "        for prediction, label in zip(predictions, labels)\n",
        "    ]\n",
        "\n",
        "    results = seqeval.compute(predictions=true_predictions, references=true_labels)\n",
        "    return {\n",
        "        \"precision\": results[\"overall_precision\"],\n",
        "        \"recall\": results[\"overall_recall\"],\n",
        "        \"f1\": results[\"overall_f1\"],\n",
        "        \"accuracy\": results[\"overall_accuracy\"],\n",
        "    }"
      ]
    },
    {
      "cell_type": "code",
      "execution_count": 16,
      "metadata": {
        "id": "dLWcYSVTZ_cs"
      },
      "outputs": [],
      "source": [
        "id2label = dict(zip(range(len(label_list)), label_list))\n",
        "label2id = {v: k for k, v in id2label.items()}"
      ]
    },
    {
      "cell_type": "code",
      "execution_count": 17,
      "metadata": {
        "colab": {
          "base_uri": "https://localhost:8080/",
          "height": 105,
          "referenced_widgets": [
            "d1ebf80bf2dd4ad4b675c8d1c25c8dcd",
            "70572fc5ebc04a608293799e4e4685f6",
            "46d2378a974b4174bf63245cd82c3332",
            "95e78b9075514d5da591d49e6df656a7",
            "c94bd80767f54d12bfa99c490f3ec75a",
            "f02e6693a0b845abad6e391036543b31",
            "1a651461375849bf90f0b06225c8ca36",
            "0bc6e938d1ed479ea9340d9ed908f904",
            "d496e613223543ed888da5dc44fb72cb",
            "ea1b817376b64639981903323e5d789e",
            "ff3954d891c9458eb94ebdb4d7c72e3b"
          ]
        },
        "id": "xapxJnLCwBM8",
        "outputId": "f64b5b54-305d-456e-e619-dda3969af806"
      },
      "outputs": [
        {
          "name": "stderr",
          "output_type": "stream",
          "text": [
            "Some weights of BertForTokenClassification were not initialized from the model checkpoint at bert-base-uncased and are newly initialized: ['classifier.bias', 'classifier.weight']\n",
            "You should probably TRAIN this model on a down-stream task to be able to use it for predictions and inference.\n"
          ]
        }
      ],
      "source": [
        "import torch\n",
        "from transformers import BertTokenizer, BertForTokenClassification, TrainingArguments, Trainer\n",
        "from transformers import AdamW, get_linear_schedule_with_warmup\n",
        "from torch.utils.data import DataLoader\n",
        "\n",
        "# Load the BERT tokenizer and model\n",
        "tokenizer = BertTokenizer.from_pretrained(\"bert-base-uncased\")\n",
        "model = BertForTokenClassification.from_pretrained(\"bert-base-uncased\", num_labels=len(label_list), id2label=id2label, label2id=label2id)\n"
      ]
    },
    {
      "cell_type": "code",
      "execution_count": 18,
      "metadata": {
        "colab": {
          "base_uri": "https://localhost:8080/",
          "height": 575
        },
        "id": "mNwAeNdQbRxT",
        "outputId": "e31b084e-3178-4b05-e215-cb1c8cedb964"
      },
      "outputs": [
        {
          "name": "stderr",
          "output_type": "stream",
          "text": [
            "  0%|          | 0/630 [00:00<?, ?it/s]C:\\Users\\abdou\\AppData\\Roaming\\Python\\Python310\\site-packages\\transformers\\models\\bert\\modeling_bert.py:439: UserWarning: 1Torch was not compiled with flash attention. (Triggered internally at ..\\aten\\src\\ATen\\native\\transformers\\cuda\\sdp_utils.cpp:263.)\n",
            "  attn_output = torch.nn.functional.scaled_dot_product_attention(\n",
            "                                                \n",
            " 10%|█         | 63/630 [00:41<02:33,  3.69it/s] "
          ]
        },
        {
          "name": "stdout",
          "output_type": "stream",
          "text": [
            "{'eval_loss': 0.3469000458717346, 'eval_precision': 0.5127778932059007, 'eval_recall': 0.5858058390695466, 'eval_f1': 0.5468646133392421, 'eval_accuracy': 0.9093639941992956, 'eval_runtime': 18.5852, 'eval_samples_per_second': 185.793, 'eval_steps_per_second': 11.622, 'epoch': 1.0}\n"
          ]
        },
        {
          "name": "stderr",
          "output_type": "stream",
          "text": [
            "                                                  \n",
            " 20%|██        | 126/630 [01:22<02:28,  3.39it/s]"
          ]
        },
        {
          "name": "stdout",
          "output_type": "stream",
          "text": [
            "{'eval_loss': 0.21194975078105927, 'eval_precision': 0.6790068720904455, 'eval_recall': 0.7270353667220508, 'eval_f1': 0.7022008253094911, 'eval_accuracy': 0.9446343484565983, 'eval_runtime': 18.8913, 'eval_samples_per_second': 182.782, 'eval_steps_per_second': 11.434, 'epoch': 2.0}\n"
          ]
        },
        {
          "name": "stderr",
          "output_type": "stream",
          "text": [
            "                                                 \n",
            " 30%|███       | 189/630 [02:04<01:59,  3.68it/s]"
          ]
        },
        {
          "name": "stdout",
          "output_type": "stream",
          "text": [
            "{'eval_loss': 0.17624258995056152, 'eval_precision': 0.7466545701973236, 'eval_recall': 0.7813909328269641, 'eval_f1': 0.7636279285548597, 'eval_accuracy': 0.9552344451350044, 'eval_runtime': 19.0323, 'eval_samples_per_second': 181.428, 'eval_steps_per_second': 11.349, 'epoch': 3.0}\n"
          ]
        },
        {
          "name": "stderr",
          "output_type": "stream",
          "text": [
            "                                                 \n",
            " 40%|████      | 252/630 [02:46<01:56,  3.26it/s]"
          ]
        },
        {
          "name": "stdout",
          "output_type": "stream",
          "text": [
            "{'eval_loss': 0.15533994138240814, 'eval_precision': 0.7787205537568382, 'eval_recall': 0.8277949204842155, 'eval_f1': 0.8025081976643847, 'eval_accuracy': 0.9610006215040398, 'eval_runtime': 19.3085, 'eval_samples_per_second': 178.833, 'eval_steps_per_second': 11.187, 'epoch': 4.0}\n"
          ]
        },
        {
          "name": "stderr",
          "output_type": "stream",
          "text": [
            "                                                 \n",
            " 50%|█████     | 315/630 [03:27<01:34,  3.35it/s]"
          ]
        },
        {
          "name": "stdout",
          "output_type": "stream",
          "text": [
            "{'eval_loss': 0.15633469820022583, 'eval_precision': 0.8264808362369338, 'eval_recall': 0.8445288393069071, 'eval_f1': 0.8354073726226813, 'eval_accuracy': 0.96512671776811, 'eval_runtime': 19.2221, 'eval_samples_per_second': 179.637, 'eval_steps_per_second': 11.237, 'epoch': 5.0}\n"
          ]
        },
        {
          "name": "stderr",
          "output_type": "stream",
          "text": [
            "                                                 \n",
            " 60%|██████    | 378/630 [04:10<01:07,  3.74it/s]"
          ]
        },
        {
          "name": "stdout",
          "output_type": "stream",
          "text": [
            "{'eval_loss': 0.15879936516284943, 'eval_precision': 0.8180683236863012, 'eval_recall': 0.8554474246380251, 'eval_f1': 0.8363404304693393, 'eval_accuracy': 0.9645915337338582, 'eval_runtime': 19.6833, 'eval_samples_per_second': 175.428, 'eval_steps_per_second': 10.974, 'epoch': 6.0}\n"
          ]
        },
        {
          "name": "stderr",
          "output_type": "stream",
          "text": [
            "                                                 \n",
            " 70%|███████   | 441/630 [04:52<00:52,  3.57it/s]"
          ]
        },
        {
          "name": "stdout",
          "output_type": "stream",
          "text": [
            "{'eval_loss': 0.15861663222312927, 'eval_precision': 0.8319889375432127, 'eval_recall': 0.8568715879420841, 'eval_f1': 0.8442469597754911, 'eval_accuracy': 0.9663179338443477, 'eval_runtime': 19.4746, 'eval_samples_per_second': 177.308, 'eval_steps_per_second': 11.091, 'epoch': 7.0}\n"
          ]
        },
        {
          "name": "stderr",
          "output_type": "stream",
          "text": [
            " 79%|███████▉  | 500/630 [05:13<00:41,  3.13it/s]"
          ]
        },
        {
          "name": "stdout",
          "output_type": "stream",
          "text": [
            "{'loss': 0.1692, 'grad_norm': 0.27311256527900696, 'learning_rate': 4.126984126984127e-06, 'epoch': 7.94}\n"
          ]
        },
        {
          "name": "stderr",
          "output_type": "stream",
          "text": [
            "                                                 \n",
            " 80%|████████  | 504/630 [05:34<00:36,  3.42it/s]"
          ]
        },
        {
          "name": "stdout",
          "output_type": "stream",
          "text": [
            "{'eval_loss': 0.16127502918243408, 'eval_precision': 0.8330262551819438, 'eval_recall': 0.8585331117968193, 'eval_f1': 0.8455873758036236, 'eval_accuracy': 0.9663524618465575, 'eval_runtime': 19.5751, 'eval_samples_per_second': 176.397, 'eval_steps_per_second': 11.034, 'epoch': 8.0}\n"
          ]
        },
        {
          "name": "stderr",
          "output_type": "stream",
          "text": [
            "                                                 \n",
            " 90%|█████████ | 567/630 [06:16<00:18,  3.35it/s]"
          ]
        },
        {
          "name": "stdout",
          "output_type": "stream",
          "text": [
            "{'eval_loss': 0.16335426270961761, 'eval_precision': 0.833929189251528, 'eval_recall': 0.8581770709708046, 'eval_f1': 0.845879394045739, 'eval_accuracy': 0.966438781852082, 'eval_runtime': 19.6197, 'eval_samples_per_second': 175.997, 'eval_steps_per_second': 11.009, 'epoch': 9.0}\n"
          ]
        },
        {
          "name": "stderr",
          "output_type": "stream",
          "text": [
            "                                                 \n",
            "100%|██████████| 630/630 [07:01<00:00,  3.28it/s]"
          ]
        },
        {
          "name": "stdout",
          "output_type": "stream",
          "text": [
            "{'eval_loss': 0.16393519937992096, 'eval_precision': 0.8352180936995154, 'eval_recall': 0.8590078328981723, 'eval_f1': 0.8469459396208753, 'eval_accuracy': 0.9666459498653408, 'eval_runtime': 20.2171, 'eval_samples_per_second': 170.796, 'eval_steps_per_second': 10.684, 'epoch': 10.0}\n"
          ]
        },
        {
          "name": "stderr",
          "output_type": "stream",
          "text": [
            "100%|██████████| 630/630 [07:04<00:00,  1.48it/s]"
          ]
        },
        {
          "name": "stdout",
          "output_type": "stream",
          "text": [
            "{'train_runtime': 424.3862, 'train_samples_per_second': 23.563, 'train_steps_per_second': 1.484, 'train_loss': 0.1378250489159236, 'epoch': 10.0}\n"
          ]
        },
        {
          "name": "stderr",
          "output_type": "stream",
          "text": [
            "\n"
          ]
        },
        {
          "data": {
            "text/plain": [
              "TrainOutput(global_step=630, training_loss=0.1378250489159236, metrics={'train_runtime': 424.3862, 'train_samples_per_second': 23.563, 'train_steps_per_second': 1.484, 'total_flos': 240608297837232.0, 'train_loss': 0.1378250489159236, 'epoch': 10.0})"
            ]
          },
          "execution_count": 18,
          "metadata": {},
          "output_type": "execute_result"
        }
      ],
      "source": [
        "training_args = TrainingArguments(\n",
        "    output_dir=\"ner-with-bert\",\n",
        "    overwrite_output_dir=True,\n",
        "    learning_rate=2e-5,\n",
        "    per_device_train_batch_size=64,\n",
        "    per_device_eval_batch_size=64,\n",
        "    num_train_epochs=20,\n",
        "    weight_decay=0.01,\n",
        "    eval_strategy=\"epoch\",\n",
        "    save_strategy=\"epoch\",\n",
        "    load_best_model_at_end=True,\n",
        "    # push_to_hub=True,\n",
        ")\n",
        "\n",
        "trainer = Trainer(\n",
        "    model=model,\n",
        "    args=training_args,\n",
        "    train_dataset=tokenized_dataset[\"train\"],\n",
        "    eval_dataset=tokenized_dataset[\"test\"],\n",
        "    tokenizer=tokenizer,\n",
        "    data_collator=data_collator,\n",
        "    compute_metrics=compute_metrics,\n",
        ")\n",
        "\n",
        "trainer.train()"
      ]
    },
    {
      "cell_type": "code",
      "execution_count": 25,
      "metadata": {},
      "outputs": [],
      "source": [
        "tokenized_dataset[\"test\"] = tokenized_dataset[\"test\"].shuffle().select(range(1000))"
      ]
    },
    {
      "cell_type": "code",
      "execution_count": 33,
      "metadata": {},
      "outputs": [
        {
          "name": "stderr",
          "output_type": "stream",
          "text": [
            "100%|██████████| 63/63 [00:06<00:00, 10.12it/s]"
          ]
        },
        {
          "name": "stdout",
          "output_type": "stream",
          "text": [
            "              precision    recall  f1-score   support\n",
            "\n",
            "         LOC       0.77      0.82      0.79       570\n",
            "        MISC       0.58      0.66      0.62       314\n",
            "         ORG       0.74      0.83      0.78       725\n",
            "         PER       0.91      0.94      0.93       766\n",
            "\n",
            "   micro avg       0.78      0.84      0.81      2375\n",
            "   macro avg       0.75      0.81      0.78      2375\n",
            "weighted avg       0.78      0.84      0.81      2375\n",
            "\n"
          ]
        },
        {
          "name": "stderr",
          "output_type": "stream",
          "text": [
            "\n"
          ]
        }
      ],
      "source": [
        "from seqeval.metrics import classification_report\n",
        "predictions, labels, _ = trainer.predict(tokenized_dataset[\"test\"])\n",
        "predictions = np.argmax(predictions, axis=2)\n",
        "\n",
        "# Remove ignored index (special tokens)\n",
        "true_predictions = [\n",
        "    [label_list[p] for (p, l) in zip(prediction, label) if l != -100]\n",
        "    for prediction, label in zip(predictions, labels)\n",
        "]\n",
        "true_labels = [\n",
        "    [label_list[l] for (p, l) in zip(prediction, label) if l != -100]\n",
        "    for prediction, label in zip(predictions, labels)\n",
        "]\n",
        "print(classification_report(true_labels, true_predictions))"
      ]
    },
    {
      "cell_type": "code",
      "execution_count": 54,
      "metadata": {},
      "outputs": [
        {
          "data": {
            "image/png": "[encoded data removed]",
            "text/plain": [
              "<Figure size 400x300 with 1 Axes>"
            ]
          },
          "metadata": {},
          "output_type": "display_data"
        }
      ],
      "source": [
        "import pandas as pd\n",
        "import matplotlib.pyplot as plt\n",
        "df = pd.DataFrame(trainer.state.log_history)\n",
        "plt.figure(figsize=(4, 3))\n",
        "plt.plot(df[\"epoch\"], df[\"eval_loss\"], marker=\"o\", label=\"Evaluation loss\")\n",
        "plt.plot(df[\"epoch\"], df[\"eval_accuracy\"], marker=\"o\", label=\"Evaluation loss\")\n",
        "# df.plot(\"epoch\", [\"eval_loss\", \"eval_accuracy\"], marker=\"o\")\n",
        "plt.xlabel(\"Epoch\")\n",
        "plt.grid()\n",
        "plt.legend()\n",
        "plt.tight_layout()\n",
        "plt.show()"
      ]
    },
    {
      "cell_type": "code",
      "execution_count": 57,
      "metadata": {},
      "outputs": [
        {
          "name": "stderr",
          "output_type": "stream",
          "text": [
            "Some weights of BertForTokenClassification were not initialized from the model checkpoint at bert-base-uncased and are newly initialized: ['classifier.bias', 'classifier.weight']\n",
            "You should probably TRAIN this model on a down-stream task to be able to use it for predictions and inference.\n",
            "\n",
            "\u001b[A\n",
            "\u001b[A\n",
            "\u001b[A\n",
            "\u001b[A\n",
            "\u001b[A\n",
            "\u001b[A\n",
            "\u001b[A\n",
            "\u001b[A\n",
            "\u001b[A\n",
            "\u001b[A\n",
            "\u001b[A\n",
            "\u001b[A\n",
            "\u001b[A\n",
            "\u001b[A\n",
            "\u001b[A\n",
            "\u001b[A\n",
            "\u001b[A\n",
            "\u001b[A\n",
            "\u001b[A\n",
            "\u001b[A\n",
            "\u001b[A\n",
            "\u001b[A\n",
            "\u001b[A\n",
            "\u001b[A\n",
            "\u001b[A\n",
            "\u001b[A\n",
            "\u001b[A\n",
            "\u001b[A\n",
            "\u001b[A\n",
            "\u001b[A\n",
            "\u001b[A\n",
            "\u001b[A\n",
            "\n",
            "\u001b[A\u001b[A                                         \n",
            "                                                 \n",
            "  2%|▏         | 5/320 [05:53<1:13:11, 13.94s/it]\n",
            "\u001b[A"
          ]
        },
        {
          "name": "stdout",
          "output_type": "stream",
          "text": [
            "{'eval_loss': 1.9227641820907593, 'eval_precision': 0.030352748154224774, 'eval_recall': 0.07789473684210527, 'eval_f1': 0.043683589138134596, 'eval_accuracy': 0.5038475411807142, 'eval_runtime': 81.1544, 'eval_samples_per_second': 12.322, 'eval_steps_per_second': 0.394, 'epoch': 1.0}\n"
          ]
        },
        {
          "name": "stderr",
          "output_type": "stream",
          "text": [
            "\n",
            "\u001b[A\n",
            "\u001b[A\n",
            "\u001b[A\n",
            "\u001b[A\n",
            "\u001b[A"
          ]
        }
      ],
      "source": [
        "n_examples = [10, 30, 100, 300, 1000]\n",
        "learning_curves = {\n",
        "    n: {\n",
        "        \"precision\": [],\n",
        "        \"recall\": [],\n",
        "        \"f1\": [],\n",
        "        \"accuracy\": [],\n",
        "    } for n in n_examples\n",
        "}\n",
        "for n in n_examples:\n",
        "    for _ in range(10):\n",
        "        model = BertForTokenClassification.from_pretrained(\n",
        "            \"bert-base-uncased\",\n",
        "            num_labels=len(label_list),\n",
        "            id2label=id2label,\n",
        "            label2id=label2id\n",
        "        )\n",
        "        \n",
        "        training_args = TrainingArguments(\n",
        "            output_dir=\"ner-with-bert\",\n",
        "            overwrite_output_dir=True,\n",
        "            learning_rate=2e-5,\n",
        "            per_device_train_batch_size=32,\n",
        "            per_device_eval_batch_size=32,\n",
        "            num_train_epochs=20,\n",
        "            weight_decay=0.01,\n",
        "            eval_strategy=\"epoch\",\n",
        "            save_strategy=\"epoch\",\n",
        "            load_best_model_at_end=True,\n",
        "            # push_to_hub=True,\n",
        "        )\n",
        "\n",
        "        trainer = Trainer(\n",
        "            model=model,\n",
        "            args=training_args,\n",
        "            train_dataset=tokenized_dataset[\"train\"].shuffle().select(range(n)),\n",
        "            eval_dataset=tokenized_dataset[\"test\"],\n",
        "            tokenizer=tokenizer,\n",
        "            data_collator=data_collator,\n",
        "            compute_metrics=compute_metrics,\n",
        "        )\n",
        "\n",
        "        trainer.train()\n",
        "        df = pd.DataFrame(trainer.state.log_history)\n",
        "        plt.figure(figsize=(4, 3))\n",
        "        plt.plot(df[\"epoch\"], df[\"eval_loss\"], marker=\"o\", label=\"Evaluation loss\")\n",
        "        plt.plot(df[\"epoch\"], df[\"eval_accuracy\"], marker=\"o\", label=\"Evaluation loss\")\n",
        "        # df.plot(\"epoch\", [\"eval_loss\", \"eval_accuracy\"], marker=\"o\")\n",
        "        plt.xlabel(\"Epoch\")\n",
        "        plt.grid()\n",
        "        plt.legend()\n",
        "        plt.tight_layout()\n",
        "        plt.show()\n",
        "\n",
        "        eval_scores = trainer.evaluate()\n",
        "        for metric in eval_scores:\n",
        "            learning_curves[n][metric].append(eval_scores[metric])"
      ]
    }
  ],
  "metadata": {
    "accelerator": "GPU",
    "colab": {
      "authorship_tag": "ABX9TyOXbl6iW90OThKheQIjgRCE",
      "gpuType": "T4",
      "include_colab_link": true,
      "provenance": []
    },
    "kernelspec": {
      "display_name": "Python 3",
      "name": "python3"
    },
    "language_info": {
      "codemirror_mode": {
        "name": "ipython",
        "version": 3
      },
      "file_extension": ".py",
      "mimetype": "text/x-python",
      "name": "python",
      "nbconvert_exporter": "python",
      "pygments_lexer": "ipython3",
      "version": "3.10.5"
    },
    "widgets": {
      "application/vnd.jupyter.widget-state+json": {
        "0bc6e938d1ed479ea9340d9ed908f904": {
          "model_module": "@jupyter-widgets/base",
          "model_module_version": "1.2.0",
          "model_name": "LayoutModel",
          "state": {
            "_model_module": "@jupyter-widgets/base",
            "_model_module_version": "1.2.0",
            "_model_name": "LayoutModel",
            "_view_count": null,
            "_view_module": "@jupyter-widgets/base",
            "_view_module_version": "1.2.0",
            "_view_name": "LayoutView",
            "align_content": null,
            "align_items": null,
            "align_self": null,
            "border": null,
            "bottom": null,
            "display": null,
            "flex": null,
            "flex_flow": null,
            "grid_area": null,
            "grid_auto_columns": null,
            "grid_auto_flow": null,
            "grid_auto_rows": null,
            "grid_column": null,
            "grid_gap": null,
            "grid_row": null,
            "grid_template_areas": null,
            "grid_template_columns": null,
            "grid_template_rows": null,
            "height": null,
            "justify_content": null,
            "justify_items": null,
            "left": null,
            "margin": null,
            "max_height": null,
            "max_width": null,
            "min_height": null,
            "min_width": null,
            "object_fit": null,
            "object_position": null,
            "order": null,
            "overflow": null,
            "overflow_x": null,
            "overflow_y": null,
            "padding": null,
            "right": null,
            "top": null,
            "visibility": null,
            "width": null
          }
        },
        "12d4b11c3cf14324a2b37ae36654c3fa": {
          "model_module": "@jupyter-widgets/controls",
          "model_module_version": "1.5.0",
          "model_name": "HTMLModel",
          "state": {
            "_dom_classes": [],
            "_model_module": "@jupyter-widgets/controls",
            "_model_module_version": "1.5.0",
            "_model_name": "HTMLModel",
            "_view_count": null,
            "_view_module": "@jupyter-widgets/controls",
            "_view_module_version": "1.5.0",
            "_view_name": "HTMLView",
            "description": "",
            "description_tooltip": null,
            "layout": "IPY_MODEL_e42cfe12cec3420a9cac8ef816463c7d",
            "placeholder": "​",
            "style": "IPY_MODEL_f43d68e20549490ca8b5d9c15831180e",
            "value": "Map: 100%"
          }
        },
        "15af2ff9a7fd43348913f6100ec69e4d": {
          "model_module": "@jupyter-widgets/base",
          "model_module_version": "1.2.0",
          "model_name": "LayoutModel",
          "state": {
            "_model_module": "@jupyter-widgets/base",
            "_model_module_version": "1.2.0",
            "_model_name": "LayoutModel",
            "_view_count": null,
            "_view_module": "@jupyter-widgets/base",
            "_view_module_version": "1.2.0",
            "_view_name": "LayoutView",
            "align_content": null,
            "align_items": null,
            "align_self": null,
            "border": null,
            "bottom": null,
            "display": null,
            "flex": null,
            "flex_flow": null,
            "grid_area": null,
            "grid_auto_columns": null,
            "grid_auto_flow": null,
            "grid_auto_rows": null,
            "grid_column": null,
            "grid_gap": null,
            "grid_row": null,
            "grid_template_areas": null,
            "grid_template_columns": null,
            "grid_template_rows": null,
            "height": null,
            "justify_content": null,
            "justify_items": null,
            "left": null,
            "margin": null,
            "max_height": null,
            "max_width": null,
            "min_height": null,
            "min_width": null,
            "object_fit": null,
            "object_position": null,
            "order": null,
            "overflow": null,
            "overflow_x": null,
            "overflow_y": null,
            "padding": null,
            "right": null,
            "top": null,
            "visibility": null,
            "width": null
          }
        },
        "1a651461375849bf90f0b06225c8ca36": {
          "model_module": "@jupyter-widgets/controls",
          "model_module_version": "1.5.0",
          "model_name": "DescriptionStyleModel",
          "state": {
            "_model_module": "@jupyter-widgets/controls",
            "_model_module_version": "1.5.0",
            "_model_name": "DescriptionStyleModel",
            "_view_count": null,
            "_view_module": "@jupyter-widgets/base",
            "_view_module_version": "1.2.0",
            "_view_name": "StyleView",
            "description_width": ""
          }
        },
        "32662dcbaec94a4c87a15b3babf775f2": {
          "model_module": "@jupyter-widgets/controls",
          "model_module_version": "1.5.0",
          "model_name": "FloatProgressModel",
          "state": {
            "_dom_classes": [],
            "_model_module": "@jupyter-widgets/controls",
            "_model_module_version": "1.5.0",
            "_model_name": "FloatProgressModel",
            "_view_count": null,
            "_view_module": "@jupyter-widgets/controls",
            "_view_module_version": "1.5.0",
            "_view_name": "ProgressView",
            "bar_style": "success",
            "description": "",
            "description_tooltip": null,
            "layout": "IPY_MODEL_c806f84c0c7e4383a11184040244c9b3",
            "max": 3453,
            "min": 0,
            "orientation": "horizontal",
            "style": "IPY_MODEL_c6f0a586d24940f1843033d8ba860db5",
            "value": 3453
          }
        },
        "3c1de1b1c82349d683788639e7ac3bfd": {
          "model_module": "@jupyter-widgets/controls",
          "model_module_version": "1.5.0",
          "model_name": "HTMLModel",
          "state": {
            "_dom_classes": [],
            "_model_module": "@jupyter-widgets/controls",
            "_model_module_version": "1.5.0",
            "_model_name": "HTMLModel",
            "_view_count": null,
            "_view_module": "@jupyter-widgets/controls",
            "_view_module_version": "1.5.0",
            "_view_name": "HTMLView",
            "description": "",
            "description_tooltip": null,
            "layout": "IPY_MODEL_b8bc47858fcd42cf8867657a5623976c",
            "placeholder": "​",
            "style": "IPY_MODEL_6b6383f3d3674adaae82d9bb8a18c2f4",
            "value": " 1000/1000 [00:00&lt;00:00, 3199.67 examples/s]"
          }
        },
        "3caaed743173467eb1eced8c77d32827": {
          "model_module": "@jupyter-widgets/controls",
          "model_module_version": "1.5.0",
          "model_name": "ProgressStyleModel",
          "state": {
            "_model_module": "@jupyter-widgets/controls",
            "_model_module_version": "1.5.0",
            "_model_name": "ProgressStyleModel",
            "_view_count": null,
            "_view_module": "@jupyter-widgets/base",
            "_view_module_version": "1.2.0",
            "_view_name": "StyleView",
            "bar_color": null,
            "description_width": ""
          }
        },
        "42567faaaa5840bd879fa62afad2f513": {
          "model_module": "@jupyter-widgets/base",
          "model_module_version": "1.2.0",
          "model_name": "LayoutModel",
          "state": {
            "_model_module": "@jupyter-widgets/base",
            "_model_module_version": "1.2.0",
            "_model_name": "LayoutModel",
            "_view_count": null,
            "_view_module": "@jupyter-widgets/base",
            "_view_module_version": "1.2.0",
            "_view_name": "LayoutView",
            "align_content": null,
            "align_items": null,
            "align_self": null,
            "border": null,
            "bottom": null,
            "display": null,
            "flex": null,
            "flex_flow": null,
            "grid_area": null,
            "grid_auto_columns": null,
            "grid_auto_flow": null,
            "grid_auto_rows": null,
            "grid_column": null,
            "grid_gap": null,
            "grid_row": null,
            "grid_template_areas": null,
            "grid_template_columns": null,
            "grid_template_rows": null,
            "height": null,
            "justify_content": null,
            "justify_items": null,
            "left": null,
            "margin": null,
            "max_height": null,
            "max_width": null,
            "min_height": null,
            "min_width": null,
            "object_fit": null,
            "object_position": null,
            "order": null,
            "overflow": null,
            "overflow_x": null,
            "overflow_y": null,
            "padding": null,
            "right": null,
            "top": null,
            "visibility": null,
            "width": null
          }
        },
        "43bd5f6f58ad418e8a82940101929fd1": {
          "model_module": "@jupyter-widgets/base",
          "model_module_version": "1.2.0",
          "model_name": "LayoutModel",
          "state": {
            "_model_module": "@jupyter-widgets/base",
            "_model_module_version": "1.2.0",
            "_model_name": "LayoutModel",
            "_view_count": null,
            "_view_module": "@jupyter-widgets/base",
            "_view_module_version": "1.2.0",
            "_view_name": "LayoutView",
            "align_content": null,
            "align_items": null,
            "align_self": null,
            "border": null,
            "bottom": null,
            "display": null,
            "flex": null,
            "flex_flow": null,
            "grid_area": null,
            "grid_auto_columns": null,
            "grid_auto_flow": null,
            "grid_auto_rows": null,
            "grid_column": null,
            "grid_gap": null,
            "grid_row": null,
            "grid_template_areas": null,
            "grid_template_columns": null,
            "grid_template_rows": null,
            "height": null,
            "justify_content": null,
            "justify_items": null,
            "left": null,
            "margin": null,
            "max_height": null,
            "max_width": null,
            "min_height": null,
            "min_width": null,
            "object_fit": null,
            "object_position": null,
            "order": null,
            "overflow": null,
            "overflow_x": null,
            "overflow_y": null,
            "padding": null,
            "right": null,
            "top": null,
            "visibility": null,
            "width": null
          }
        },
        "46d2378a974b4174bf63245cd82c3332": {
          "model_module": "@jupyter-widgets/controls",
          "model_module_version": "1.5.0",
          "model_name": "FloatProgressModel",
          "state": {
            "_dom_classes": [],
            "_model_module": "@jupyter-widgets/controls",
            "_model_module_version": "1.5.0",
            "_model_name": "FloatProgressModel",
            "_view_count": null,
            "_view_module": "@jupyter-widgets/controls",
            "_view_module_version": "1.5.0",
            "_view_name": "ProgressView",
            "bar_style": "success",
            "description": "",
            "description_tooltip": null,
            "layout": "IPY_MODEL_0bc6e938d1ed479ea9340d9ed908f904",
            "max": 440449768,
            "min": 0,
            "orientation": "horizontal",
            "style": "IPY_MODEL_d496e613223543ed888da5dc44fb72cb",
            "value": 440449768
          }
        },
        "48cb7c4e1bf4415b95b26b9c849f9f62": {
          "model_module": "@jupyter-widgets/controls",
          "model_module_version": "1.5.0",
          "model_name": "HTMLModel",
          "state": {
            "_dom_classes": [],
            "_model_module": "@jupyter-widgets/controls",
            "_model_module_version": "1.5.0",
            "_model_name": "HTMLModel",
            "_view_count": null,
            "_view_module": "@jupyter-widgets/controls",
            "_view_module_version": "1.5.0",
            "_view_name": "HTMLView",
            "description": "",
            "description_tooltip": null,
            "layout": "IPY_MODEL_6b9d5456542b44979fdb3ff80c15ca56",
            "placeholder": "​",
            "style": "IPY_MODEL_b37a6f028c6b4f14a7a9ed58a4273d2e",
            "value": " 3453/3453 [00:01&lt;00:00, 3262.07 examples/s]"
          }
        },
        "4df709c321e046eba459c9781f3bd114": {
          "model_module": "@jupyter-widgets/controls",
          "model_module_version": "1.5.0",
          "model_name": "HTMLModel",
          "state": {
            "_dom_classes": [],
            "_model_module": "@jupyter-widgets/controls",
            "_model_module_version": "1.5.0",
            "_model_name": "HTMLModel",
            "_view_count": null,
            "_view_module": "@jupyter-widgets/controls",
            "_view_module_version": "1.5.0",
            "_view_name": "HTMLView",
            "description": "",
            "description_tooltip": null,
            "layout": "IPY_MODEL_cbd3e447a6ff4d8195f2df06f991fb21",
            "placeholder": "​",
            "style": "IPY_MODEL_558db325b7a24f02b5416cc5baab699a",
            "value": " 3250/3250 [00:01&lt;00:00, 2824.57 examples/s]"
          }
        },
        "558db325b7a24f02b5416cc5baab699a": {
          "model_module": "@jupyter-widgets/controls",
          "model_module_version": "1.5.0",
          "model_name": "DescriptionStyleModel",
          "state": {
            "_model_module": "@jupyter-widgets/controls",
            "_model_module_version": "1.5.0",
            "_model_name": "DescriptionStyleModel",
            "_view_count": null,
            "_view_module": "@jupyter-widgets/base",
            "_view_module_version": "1.2.0",
            "_view_name": "StyleView",
            "description_width": ""
          }
        },
        "6b6383f3d3674adaae82d9bb8a18c2f4": {
          "model_module": "@jupyter-widgets/controls",
          "model_module_version": "1.5.0",
          "model_name": "DescriptionStyleModel",
          "state": {
            "_model_module": "@jupyter-widgets/controls",
            "_model_module_version": "1.5.0",
            "_model_name": "DescriptionStyleModel",
            "_view_count": null,
            "_view_module": "@jupyter-widgets/base",
            "_view_module_version": "1.2.0",
            "_view_name": "StyleView",
            "description_width": ""
          }
        },
        "6b9d5456542b44979fdb3ff80c15ca56": {
          "model_module": "@jupyter-widgets/base",
          "model_module_version": "1.2.0",
          "model_name": "LayoutModel",
          "state": {
            "_model_module": "@jupyter-widgets/base",
            "_model_module_version": "1.2.0",
            "_model_name": "LayoutModel",
            "_view_count": null,
            "_view_module": "@jupyter-widgets/base",
            "_view_module_version": "1.2.0",
            "_view_name": "LayoutView",
            "align_content": null,
            "align_items": null,
            "align_self": null,
            "border": null,
            "bottom": null,
            "display": null,
            "flex": null,
            "flex_flow": null,
            "grid_area": null,
            "grid_auto_columns": null,
            "grid_auto_flow": null,
            "grid_auto_rows": null,
            "grid_column": null,
            "grid_gap": null,
            "grid_row": null,
            "grid_template_areas": null,
            "grid_template_columns": null,
            "grid_template_rows": null,
            "height": null,
            "justify_content": null,
            "justify_items": null,
            "left": null,
            "margin": null,
            "max_height": null,
            "max_width": null,
            "min_height": null,
            "min_width": null,
            "object_fit": null,
            "object_position": null,
            "order": null,
            "overflow": null,
            "overflow_x": null,
            "overflow_y": null,
            "padding": null,
            "right": null,
            "top": null,
            "visibility": null,
            "width": null
          }
        },
        "70572fc5ebc04a608293799e4e4685f6": {
          "model_module": "@jupyter-widgets/controls",
          "model_module_version": "1.5.0",
          "model_name": "HTMLModel",
          "state": {
            "_dom_classes": [],
            "_model_module": "@jupyter-widgets/controls",
            "_model_module_version": "1.5.0",
            "_model_name": "HTMLModel",
            "_view_count": null,
            "_view_module": "@jupyter-widgets/controls",
            "_view_module_version": "1.5.0",
            "_view_name": "HTMLView",
            "description": "",
            "description_tooltip": null,
            "layout": "IPY_MODEL_f02e6693a0b845abad6e391036543b31",
            "placeholder": "​",
            "style": "IPY_MODEL_1a651461375849bf90f0b06225c8ca36",
            "value": "model.safetensors: 100%"
          }
        },
        "72abe89069f54625a1d73768806c6342": {
          "model_module": "@jupyter-widgets/base",
          "model_module_version": "1.2.0",
          "model_name": "LayoutModel",
          "state": {
            "_model_module": "@jupyter-widgets/base",
            "_model_module_version": "1.2.0",
            "_model_name": "LayoutModel",
            "_view_count": null,
            "_view_module": "@jupyter-widgets/base",
            "_view_module_version": "1.2.0",
            "_view_name": "LayoutView",
            "align_content": null,
            "align_items": null,
            "align_self": null,
            "border": null,
            "bottom": null,
            "display": null,
            "flex": null,
            "flex_flow": null,
            "grid_area": null,
            "grid_auto_columns": null,
            "grid_auto_flow": null,
            "grid_auto_rows": null,
            "grid_column": null,
            "grid_gap": null,
            "grid_row": null,
            "grid_template_areas": null,
            "grid_template_columns": null,
            "grid_template_rows": null,
            "height": null,
            "justify_content": null,
            "justify_items": null,
            "left": null,
            "margin": null,
            "max_height": null,
            "max_width": null,
            "min_height": null,
            "min_width": null,
            "object_fit": null,
            "object_position": null,
            "order": null,
            "overflow": null,
            "overflow_x": null,
            "overflow_y": null,
            "padding": null,
            "right": null,
            "top": null,
            "visibility": null,
            "width": null
          }
        },
        "7963f2a29adc4443bf3ffee316f27de5": {
          "model_module": "@jupyter-widgets/controls",
          "model_module_version": "1.5.0",
          "model_name": "DescriptionStyleModel",
          "state": {
            "_model_module": "@jupyter-widgets/controls",
            "_model_module_version": "1.5.0",
            "_model_name": "DescriptionStyleModel",
            "_view_count": null,
            "_view_module": "@jupyter-widgets/base",
            "_view_module_version": "1.2.0",
            "_view_name": "StyleView",
            "description_width": ""
          }
        },
        "8edbedc615184165b62353b517799d44": {
          "model_module": "@jupyter-widgets/controls",
          "model_module_version": "1.5.0",
          "model_name": "ProgressStyleModel",
          "state": {
            "_model_module": "@jupyter-widgets/controls",
            "_model_module_version": "1.5.0",
            "_model_name": "ProgressStyleModel",
            "_view_count": null,
            "_view_module": "@jupyter-widgets/base",
            "_view_module_version": "1.2.0",
            "_view_name": "StyleView",
            "bar_color": null,
            "description_width": ""
          }
        },
        "95e78b9075514d5da591d49e6df656a7": {
          "model_module": "@jupyter-widgets/controls",
          "model_module_version": "1.5.0",
          "model_name": "HTMLModel",
          "state": {
            "_dom_classes": [],
            "_model_module": "@jupyter-widgets/controls",
            "_model_module_version": "1.5.0",
            "_model_name": "HTMLModel",
            "_view_count": null,
            "_view_module": "@jupyter-widgets/controls",
            "_view_module_version": "1.5.0",
            "_view_name": "HTMLView",
            "description": "",
            "description_tooltip": null,
            "layout": "IPY_MODEL_ea1b817376b64639981903323e5d789e",
            "placeholder": "​",
            "style": "IPY_MODEL_ff3954d891c9458eb94ebdb4d7c72e3b",
            "value": " 440M/440M [00:05&lt;00:00, 102MB/s]"
          }
        },
        "98d2a0bfb6db47a3a67a6a2770c29507": {
          "model_module": "@jupyter-widgets/controls",
          "model_module_version": "1.5.0",
          "model_name": "DescriptionStyleModel",
          "state": {
            "_model_module": "@jupyter-widgets/controls",
            "_model_module_version": "1.5.0",
            "_model_name": "DescriptionStyleModel",
            "_view_count": null,
            "_view_module": "@jupyter-widgets/base",
            "_view_module_version": "1.2.0",
            "_view_name": "StyleView",
            "description_width": ""
          }
        },
        "b17b352310d246a3bb81558adca1ee7a": {
          "model_module": "@jupyter-widgets/base",
          "model_module_version": "1.2.0",
          "model_name": "LayoutModel",
          "state": {
            "_model_module": "@jupyter-widgets/base",
            "_model_module_version": "1.2.0",
            "_model_name": "LayoutModel",
            "_view_count": null,
            "_view_module": "@jupyter-widgets/base",
            "_view_module_version": "1.2.0",
            "_view_name": "LayoutView",
            "align_content": null,
            "align_items": null,
            "align_self": null,
            "border": null,
            "bottom": null,
            "display": null,
            "flex": null,
            "flex_flow": null,
            "grid_area": null,
            "grid_auto_columns": null,
            "grid_auto_flow": null,
            "grid_auto_rows": null,
            "grid_column": null,
            "grid_gap": null,
            "grid_row": null,
            "grid_template_areas": null,
            "grid_template_columns": null,
            "grid_template_rows": null,
            "height": null,
            "justify_content": null,
            "justify_items": null,
            "left": null,
            "margin": null,
            "max_height": null,
            "max_width": null,
            "min_height": null,
            "min_width": null,
            "object_fit": null,
            "object_position": null,
            "order": null,
            "overflow": null,
            "overflow_x": null,
            "overflow_y": null,
            "padding": null,
            "right": null,
            "top": null,
            "visibility": null,
            "width": null
          }
        },
        "b37a6f028c6b4f14a7a9ed58a4273d2e": {
          "model_module": "@jupyter-widgets/controls",
          "model_module_version": "1.5.0",
          "model_name": "DescriptionStyleModel",
          "state": {
            "_model_module": "@jupyter-widgets/controls",
            "_model_module_version": "1.5.0",
            "_model_name": "DescriptionStyleModel",
            "_view_count": null,
            "_view_module": "@jupyter-widgets/base",
            "_view_module_version": "1.2.0",
            "_view_name": "StyleView",
            "description_width": ""
          }
        },
        "b8bc47858fcd42cf8867657a5623976c": {
          "model_module": "@jupyter-widgets/base",
          "model_module_version": "1.2.0",
          "model_name": "LayoutModel",
          "state": {
            "_model_module": "@jupyter-widgets/base",
            "_model_module_version": "1.2.0",
            "_model_name": "LayoutModel",
            "_view_count": null,
            "_view_module": "@jupyter-widgets/base",
            "_view_module_version": "1.2.0",
            "_view_name": "LayoutView",
            "align_content": null,
            "align_items": null,
            "align_self": null,
            "border": null,
            "bottom": null,
            "display": null,
            "flex": null,
            "flex_flow": null,
            "grid_area": null,
            "grid_auto_columns": null,
            "grid_auto_flow": null,
            "grid_auto_rows": null,
            "grid_column": null,
            "grid_gap": null,
            "grid_row": null,
            "grid_template_areas": null,
            "grid_template_columns": null,
            "grid_template_rows": null,
            "height": null,
            "justify_content": null,
            "justify_items": null,
            "left": null,
            "margin": null,
            "max_height": null,
            "max_width": null,
            "min_height": null,
            "min_width": null,
            "object_fit": null,
            "object_position": null,
            "order": null,
            "overflow": null,
            "overflow_x": null,
            "overflow_y": null,
            "padding": null,
            "right": null,
            "top": null,
            "visibility": null,
            "width": null
          }
        },
        "bb074b6116eb412ea2f274363515d3bc": {
          "model_module": "@jupyter-widgets/base",
          "model_module_version": "1.2.0",
          "model_name": "LayoutModel",
          "state": {
            "_model_module": "@jupyter-widgets/base",
            "_model_module_version": "1.2.0",
            "_model_name": "LayoutModel",
            "_view_count": null,
            "_view_module": "@jupyter-widgets/base",
            "_view_module_version": "1.2.0",
            "_view_name": "LayoutView",
            "align_content": null,
            "align_items": null,
            "align_self": null,
            "border": null,
            "bottom": null,
            "display": null,
            "flex": null,
            "flex_flow": null,
            "grid_area": null,
            "grid_auto_columns": null,
            "grid_auto_flow": null,
            "grid_auto_rows": null,
            "grid_column": null,
            "grid_gap": null,
            "grid_row": null,
            "grid_template_areas": null,
            "grid_template_columns": null,
            "grid_template_rows": null,
            "height": null,
            "justify_content": null,
            "justify_items": null,
            "left": null,
            "margin": null,
            "max_height": null,
            "max_width": null,
            "min_height": null,
            "min_width": null,
            "object_fit": null,
            "object_position": null,
            "order": null,
            "overflow": null,
            "overflow_x": null,
            "overflow_y": null,
            "padding": null,
            "right": null,
            "top": null,
            "visibility": null,
            "width": null
          }
        },
        "bef466a5fb1346a6b6e520e901e6cbd8": {
          "model_module": "@jupyter-widgets/controls",
          "model_module_version": "1.5.0",
          "model_name": "FloatProgressModel",
          "state": {
            "_dom_classes": [],
            "_model_module": "@jupyter-widgets/controls",
            "_model_module_version": "1.5.0",
            "_model_name": "FloatProgressModel",
            "_view_count": null,
            "_view_module": "@jupyter-widgets/controls",
            "_view_module_version": "1.5.0",
            "_view_name": "ProgressView",
            "bar_style": "success",
            "description": "",
            "description_tooltip": null,
            "layout": "IPY_MODEL_c92c45fc5cd04d44a816ea7e7ba38bb2",
            "max": 1000,
            "min": 0,
            "orientation": "horizontal",
            "style": "IPY_MODEL_3caaed743173467eb1eced8c77d32827",
            "value": 1000
          }
        },
        "c6f0a586d24940f1843033d8ba860db5": {
          "model_module": "@jupyter-widgets/controls",
          "model_module_version": "1.5.0",
          "model_name": "ProgressStyleModel",
          "state": {
            "_model_module": "@jupyter-widgets/controls",
            "_model_module_version": "1.5.0",
            "_model_name": "ProgressStyleModel",
            "_view_count": null,
            "_view_module": "@jupyter-widgets/base",
            "_view_module_version": "1.2.0",
            "_view_name": "StyleView",
            "bar_color": null,
            "description_width": ""
          }
        },
        "c806f84c0c7e4383a11184040244c9b3": {
          "model_module": "@jupyter-widgets/base",
          "model_module_version": "1.2.0",
          "model_name": "LayoutModel",
          "state": {
            "_model_module": "@jupyter-widgets/base",
            "_model_module_version": "1.2.0",
            "_model_name": "LayoutModel",
            "_view_count": null,
            "_view_module": "@jupyter-widgets/base",
            "_view_module_version": "1.2.0",
            "_view_name": "LayoutView",
            "align_content": null,
            "align_items": null,
            "align_self": null,
            "border": null,
            "bottom": null,
            "display": null,
            "flex": null,
            "flex_flow": null,
            "grid_area": null,
            "grid_auto_columns": null,
            "grid_auto_flow": null,
            "grid_auto_rows": null,
            "grid_column": null,
            "grid_gap": null,
            "grid_row": null,
            "grid_template_areas": null,
            "grid_template_columns": null,
            "grid_template_rows": null,
            "height": null,
            "justify_content": null,
            "justify_items": null,
            "left": null,
            "margin": null,
            "max_height": null,
            "max_width": null,
            "min_height": null,
            "min_width": null,
            "object_fit": null,
            "object_position": null,
            "order": null,
            "overflow": null,
            "overflow_x": null,
            "overflow_y": null,
            "padding": null,
            "right": null,
            "top": null,
            "visibility": null,
            "width": null
          }
        },
        "c92c45fc5cd04d44a816ea7e7ba38bb2": {
          "model_module": "@jupyter-widgets/base",
          "model_module_version": "1.2.0",
          "model_name": "LayoutModel",
          "state": {
            "_model_module": "@jupyter-widgets/base",
            "_model_module_version": "1.2.0",
            "_model_name": "LayoutModel",
            "_view_count": null,
            "_view_module": "@jupyter-widgets/base",
            "_view_module_version": "1.2.0",
            "_view_name": "LayoutView",
            "align_content": null,
            "align_items": null,
            "align_self": null,
            "border": null,
            "bottom": null,
            "display": null,
            "flex": null,
            "flex_flow": null,
            "grid_area": null,
            "grid_auto_columns": null,
            "grid_auto_flow": null,
            "grid_auto_rows": null,
            "grid_column": null,
            "grid_gap": null,
            "grid_row": null,
            "grid_template_areas": null,
            "grid_template_columns": null,
            "grid_template_rows": null,
            "height": null,
            "justify_content": null,
            "justify_items": null,
            "left": null,
            "margin": null,
            "max_height": null,
            "max_width": null,
            "min_height": null,
            "min_width": null,
            "object_fit": null,
            "object_position": null,
            "order": null,
            "overflow": null,
            "overflow_x": null,
            "overflow_y": null,
            "padding": null,
            "right": null,
            "top": null,
            "visibility": null,
            "width": null
          }
        },
        "c94bd80767f54d12bfa99c490f3ec75a": {
          "model_module": "@jupyter-widgets/base",
          "model_module_version": "1.2.0",
          "model_name": "LayoutModel",
          "state": {
            "_model_module": "@jupyter-widgets/base",
            "_model_module_version": "1.2.0",
            "_model_name": "LayoutModel",
            "_view_count": null,
            "_view_module": "@jupyter-widgets/base",
            "_view_module_version": "1.2.0",
            "_view_name": "LayoutView",
            "align_content": null,
            "align_items": null,
            "align_self": null,
            "border": null,
            "bottom": null,
            "display": null,
            "flex": null,
            "flex_flow": null,
            "grid_area": null,
            "grid_auto_columns": null,
            "grid_auto_flow": null,
            "grid_auto_rows": null,
            "grid_column": null,
            "grid_gap": null,
            "grid_row": null,
            "grid_template_areas": null,
            "grid_template_columns": null,
            "grid_template_rows": null,
            "height": null,
            "justify_content": null,
            "justify_items": null,
            "left": null,
            "margin": null,
            "max_height": null,
            "max_width": null,
            "min_height": null,
            "min_width": null,
            "object_fit": null,
            "object_position": null,
            "order": null,
            "overflow": null,
            "overflow_x": null,
            "overflow_y": null,
            "padding": null,
            "right": null,
            "top": null,
            "visibility": null,
            "width": null
          }
        },
        "cbd3e447a6ff4d8195f2df06f991fb21": {
          "model_module": "@jupyter-widgets/base",
          "model_module_version": "1.2.0",
          "model_name": "LayoutModel",
          "state": {
            "_model_module": "@jupyter-widgets/base",
            "_model_module_version": "1.2.0",
            "_model_name": "LayoutModel",
            "_view_count": null,
            "_view_module": "@jupyter-widgets/base",
            "_view_module_version": "1.2.0",
            "_view_name": "LayoutView",
            "align_content": null,
            "align_items": null,
            "align_self": null,
            "border": null,
            "bottom": null,
            "display": null,
            "flex": null,
            "flex_flow": null,
            "grid_area": null,
            "grid_auto_columns": null,
            "grid_auto_flow": null,
            "grid_auto_rows": null,
            "grid_column": null,
            "grid_gap": null,
            "grid_row": null,
            "grid_template_areas": null,
            "grid_template_columns": null,
            "grid_template_rows": null,
            "height": null,
            "justify_content": null,
            "justify_items": null,
            "left": null,
            "margin": null,
            "max_height": null,
            "max_width": null,
            "min_height": null,
            "min_width": null,
            "object_fit": null,
            "object_position": null,
            "order": null,
            "overflow": null,
            "overflow_x": null,
            "overflow_y": null,
            "padding": null,
            "right": null,
            "top": null,
            "visibility": null,
            "width": null
          }
        },
        "d1ebf80bf2dd4ad4b675c8d1c25c8dcd": {
          "model_module": "@jupyter-widgets/controls",
          "model_module_version": "1.5.0",
          "model_name": "HBoxModel",
          "state": {
            "_dom_classes": [],
            "_model_module": "@jupyter-widgets/controls",
            "_model_module_version": "1.5.0",
            "_model_name": "HBoxModel",
            "_view_count": null,
            "_view_module": "@jupyter-widgets/controls",
            "_view_module_version": "1.5.0",
            "_view_name": "HBoxView",
            "box_style": "",
            "children": [
              "IPY_MODEL_70572fc5ebc04a608293799e4e4685f6",
              "IPY_MODEL_46d2378a974b4174bf63245cd82c3332",
              "IPY_MODEL_95e78b9075514d5da591d49e6df656a7"
            ],
            "layout": "IPY_MODEL_c94bd80767f54d12bfa99c490f3ec75a"
          }
        },
        "d4672b323834446eb7d983048dbd1dc3": {
          "model_module": "@jupyter-widgets/controls",
          "model_module_version": "1.5.0",
          "model_name": "HTMLModel",
          "state": {
            "_dom_classes": [],
            "_model_module": "@jupyter-widgets/controls",
            "_model_module_version": "1.5.0",
            "_model_name": "HTMLModel",
            "_view_count": null,
            "_view_module": "@jupyter-widgets/controls",
            "_view_module_version": "1.5.0",
            "_view_name": "HTMLView",
            "description": "",
            "description_tooltip": null,
            "layout": "IPY_MODEL_72abe89069f54625a1d73768806c6342",
            "placeholder": "​",
            "style": "IPY_MODEL_98d2a0bfb6db47a3a67a6a2770c29507",
            "value": "Map: 100%"
          }
        },
        "d496e613223543ed888da5dc44fb72cb": {
          "model_module": "@jupyter-widgets/controls",
          "model_module_version": "1.5.0",
          "model_name": "ProgressStyleModel",
          "state": {
            "_model_module": "@jupyter-widgets/controls",
            "_model_module_version": "1.5.0",
            "_model_name": "ProgressStyleModel",
            "_view_count": null,
            "_view_module": "@jupyter-widgets/base",
            "_view_module_version": "1.2.0",
            "_view_name": "StyleView",
            "bar_color": null,
            "description_width": ""
          }
        },
        "d7a8c622c362403fae8d87511fc5c2e4": {
          "model_module": "@jupyter-widgets/controls",
          "model_module_version": "1.5.0",
          "model_name": "HBoxModel",
          "state": {
            "_dom_classes": [],
            "_model_module": "@jupyter-widgets/controls",
            "_model_module_version": "1.5.0",
            "_model_name": "HBoxModel",
            "_view_count": null,
            "_view_module": "@jupyter-widgets/controls",
            "_view_module_version": "1.5.0",
            "_view_name": "HBoxView",
            "box_style": "",
            "children": [
              "IPY_MODEL_f7b3b987b9194653b580eb01bc3f2f1b",
              "IPY_MODEL_bef466a5fb1346a6b6e520e901e6cbd8",
              "IPY_MODEL_3c1de1b1c82349d683788639e7ac3bfd"
            ],
            "layout": "IPY_MODEL_43bd5f6f58ad418e8a82940101929fd1"
          }
        },
        "e00c3211bc2542c6817681d0ac3879e2": {
          "model_module": "@jupyter-widgets/controls",
          "model_module_version": "1.5.0",
          "model_name": "HBoxModel",
          "state": {
            "_dom_classes": [],
            "_model_module": "@jupyter-widgets/controls",
            "_model_module_version": "1.5.0",
            "_model_name": "HBoxModel",
            "_view_count": null,
            "_view_module": "@jupyter-widgets/controls",
            "_view_module_version": "1.5.0",
            "_view_name": "HBoxView",
            "box_style": "",
            "children": [
              "IPY_MODEL_d4672b323834446eb7d983048dbd1dc3",
              "IPY_MODEL_32662dcbaec94a4c87a15b3babf775f2",
              "IPY_MODEL_48cb7c4e1bf4415b95b26b9c849f9f62"
            ],
            "layout": "IPY_MODEL_42567faaaa5840bd879fa62afad2f513"
          }
        },
        "e42cfe12cec3420a9cac8ef816463c7d": {
          "model_module": "@jupyter-widgets/base",
          "model_module_version": "1.2.0",
          "model_name": "LayoutModel",
          "state": {
            "_model_module": "@jupyter-widgets/base",
            "_model_module_version": "1.2.0",
            "_model_name": "LayoutModel",
            "_view_count": null,
            "_view_module": "@jupyter-widgets/base",
            "_view_module_version": "1.2.0",
            "_view_name": "LayoutView",
            "align_content": null,
            "align_items": null,
            "align_self": null,
            "border": null,
            "bottom": null,
            "display": null,
            "flex": null,
            "flex_flow": null,
            "grid_area": null,
            "grid_auto_columns": null,
            "grid_auto_flow": null,
            "grid_auto_rows": null,
            "grid_column": null,
            "grid_gap": null,
            "grid_row": null,
            "grid_template_areas": null,
            "grid_template_columns": null,
            "grid_template_rows": null,
            "height": null,
            "justify_content": null,
            "justify_items": null,
            "left": null,
            "margin": null,
            "max_height": null,
            "max_width": null,
            "min_height": null,
            "min_width": null,
            "object_fit": null,
            "object_position": null,
            "order": null,
            "overflow": null,
            "overflow_x": null,
            "overflow_y": null,
            "padding": null,
            "right": null,
            "top": null,
            "visibility": null,
            "width": null
          }
        },
        "e9bf2dba77a34fc785183cbd000f91b4": {
          "model_module": "@jupyter-widgets/controls",
          "model_module_version": "1.5.0",
          "model_name": "HBoxModel",
          "state": {
            "_dom_classes": [],
            "_model_module": "@jupyter-widgets/controls",
            "_model_module_version": "1.5.0",
            "_model_name": "HBoxModel",
            "_view_count": null,
            "_view_module": "@jupyter-widgets/controls",
            "_view_module_version": "1.5.0",
            "_view_name": "HBoxView",
            "box_style": "",
            "children": [
              "IPY_MODEL_12d4b11c3cf14324a2b37ae36654c3fa",
              "IPY_MODEL_f750de2900c64b72bad32b3bda66d65f",
              "IPY_MODEL_4df709c321e046eba459c9781f3bd114"
            ],
            "layout": "IPY_MODEL_b17b352310d246a3bb81558adca1ee7a"
          }
        },
        "ea1b817376b64639981903323e5d789e": {
          "model_module": "@jupyter-widgets/base",
          "model_module_version": "1.2.0",
          "model_name": "LayoutModel",
          "state": {
            "_model_module": "@jupyter-widgets/base",
            "_model_module_version": "1.2.0",
            "_model_name": "LayoutModel",
            "_view_count": null,
            "_view_module": "@jupyter-widgets/base",
            "_view_module_version": "1.2.0",
            "_view_name": "LayoutView",
            "align_content": null,
            "align_items": null,
            "align_self": null,
            "border": null,
            "bottom": null,
            "display": null,
            "flex": null,
            "flex_flow": null,
            "grid_area": null,
            "grid_auto_columns": null,
            "grid_auto_flow": null,
            "grid_auto_rows": null,
            "grid_column": null,
            "grid_gap": null,
            "grid_row": null,
            "grid_template_areas": null,
            "grid_template_columns": null,
            "grid_template_rows": null,
            "height": null,
            "justify_content": null,
            "justify_items": null,
            "left": null,
            "margin": null,
            "max_height": null,
            "max_width": null,
            "min_height": null,
            "min_width": null,
            "object_fit": null,
            "object_position": null,
            "order": null,
            "overflow": null,
            "overflow_x": null,
            "overflow_y": null,
            "padding": null,
            "right": null,
            "top": null,
            "visibility": null,
            "width": null
          }
        },
        "f02e6693a0b845abad6e391036543b31": {
          "model_module": "@jupyter-widgets/base",
          "model_module_version": "1.2.0",
          "model_name": "LayoutModel",
          "state": {
            "_model_module": "@jupyter-widgets/base",
            "_model_module_version": "1.2.0",
            "_model_name": "LayoutModel",
            "_view_count": null,
            "_view_module": "@jupyter-widgets/base",
            "_view_module_version": "1.2.0",
            "_view_name": "LayoutView",
            "align_content": null,
            "align_items": null,
            "align_self": null,
            "border": null,
            "bottom": null,
            "display": null,
            "flex": null,
            "flex_flow": null,
            "grid_area": null,
            "grid_auto_columns": null,
            "grid_auto_flow": null,
            "grid_auto_rows": null,
            "grid_column": null,
            "grid_gap": null,
            "grid_row": null,
            "grid_template_areas": null,
            "grid_template_columns": null,
            "grid_template_rows": null,
            "height": null,
            "justify_content": null,
            "justify_items": null,
            "left": null,
            "margin": null,
            "max_height": null,
            "max_width": null,
            "min_height": null,
            "min_width": null,
            "object_fit": null,
            "object_position": null,
            "order": null,
            "overflow": null,
            "overflow_x": null,
            "overflow_y": null,
            "padding": null,
            "right": null,
            "top": null,
            "visibility": null,
            "width": null
          }
        },
        "f43d68e20549490ca8b5d9c15831180e": {
          "model_module": "@jupyter-widgets/controls",
          "model_module_version": "1.5.0",
          "model_name": "DescriptionStyleModel",
          "state": {
            "_model_module": "@jupyter-widgets/controls",
            "_model_module_version": "1.5.0",
            "_model_name": "DescriptionStyleModel",
            "_view_count": null,
            "_view_module": "@jupyter-widgets/base",
            "_view_module_version": "1.2.0",
            "_view_name": "StyleView",
            "description_width": ""
          }
        },
        "f750de2900c64b72bad32b3bda66d65f": {
          "model_module": "@jupyter-widgets/controls",
          "model_module_version": "1.5.0",
          "model_name": "FloatProgressModel",
          "state": {
            "_dom_classes": [],
            "_model_module": "@jupyter-widgets/controls",
            "_model_module_version": "1.5.0",
            "_model_name": "FloatProgressModel",
            "_view_count": null,
            "_view_module": "@jupyter-widgets/controls",
            "_view_module_version": "1.5.0",
            "_view_name": "ProgressView",
            "bar_style": "success",
            "description": "",
            "description_tooltip": null,
            "layout": "IPY_MODEL_15af2ff9a7fd43348913f6100ec69e4d",
            "max": 3250,
            "min": 0,
            "orientation": "horizontal",
            "style": "IPY_MODEL_8edbedc615184165b62353b517799d44",
            "value": 3250
          }
        },
        "f7b3b987b9194653b580eb01bc3f2f1b": {
          "model_module": "@jupyter-widgets/controls",
          "model_module_version": "1.5.0",
          "model_name": "HTMLModel",
          "state": {
            "_dom_classes": [],
            "_model_module": "@jupyter-widgets/controls",
            "_model_module_version": "1.5.0",
            "_model_name": "HTMLModel",
            "_view_count": null,
            "_view_module": "@jupyter-widgets/controls",
            "_view_module_version": "1.5.0",
            "_view_name": "HTMLView",
            "description": "",
            "description_tooltip": null,
            "layout": "IPY_MODEL_bb074b6116eb412ea2f274363515d3bc",
            "placeholder": "​",
            "style": "IPY_MODEL_7963f2a29adc4443bf3ffee316f27de5",
            "value": "Map: 100%"
          }
        },
        "ff3954d891c9458eb94ebdb4d7c72e3b": {
          "model_module": "@jupyter-widgets/controls",
          "model_module_version": "1.5.0",
          "model_name": "DescriptionStyleModel",
          "state": {
            "_model_module": "@jupyter-widgets/controls",
            "_model_module_version": "1.5.0",
            "_model_name": "DescriptionStyleModel",
            "_view_count": null,
            "_view_module": "@jupyter-widgets/base",
            "_view_module_version": "1.2.0",
            "_view_name": "StyleView",
            "description_width": ""
          }
        }
      }
    }
  },
  "nbformat": 4,
  "nbformat_minor": 0
}
