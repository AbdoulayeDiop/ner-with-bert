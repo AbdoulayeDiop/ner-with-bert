{
  "cells": [
    {
      "cell_type": "markdown",
      "metadata": {
        "colab_type": "text",
        "id": "view-in-github"
      },
      "source": [
        "<a href=\"https://colab.research.google.com/github/AbdoulayeDiop/ner-with-bert/blob/main/ner_with_bert.ipynb\" target=\"_parent\"><img src=\"https://colab.research.google.com/assets/colab-badge.svg\" alt=\"Open In Colab\"/></a>"
      ]
    },
    {
      "cell_type": "code",
      "execution_count": 58,
      "metadata": {
        "colab": {
          "base_uri": "https://localhost:8080/"
        },
        "id": "0meRuvajZ8Tg",
        "outputId": "a752ceb5-37a6-4097-96d5-69d3a4c8cf0d"
      },
      "outputs": [
        {
          "name": "stdout",
          "output_type": "stream",
          "text": [
            "Defaulting to user installation because normal site-packages is not writeable\n",
            "Requirement already satisfied: transformers[torch] in c:\\users\\abdou\\appdata\\roaming\\python\\python310\\site-packages (4.42.3)\n",
            "Requirement already satisfied: datasets in c:\\users\\abdou\\appdata\\roaming\\python\\python310\\site-packages (2.20.0)\n",
            "Requirement already satisfied: evaluate in c:\\users\\abdou\\appdata\\roaming\\python\\python310\\site-packages (0.4.2)\n",
            "Requirement already satisfied: seqeval in c:\\users\\abdou\\appdata\\roaming\\python\\python310\\site-packages (1.2.2)\n",
            "Requirement already satisfied: huggingface-hub<1.0,>=0.23.2 in c:\\users\\abdou\\appdata\\roaming\\python\\python310\\site-packages (from transformers[torch]) (0.23.4)\n",
            "Requirement already satisfied: packaging>=20.0 in c:\\users\\abdou\\appdata\\roaming\\python\\python310\\site-packages (from transformers[torch]) (23.2)\n",
            "Requirement already satisfied: regex!=2019.12.17 in c:\\users\\abdou\\appdata\\roaming\\python\\python310\\site-packages (from transformers[torch]) (2024.5.15)\n",
            "Requirement already satisfied: tqdm>=4.27 in c:\\users\\abdou\\appdata\\roaming\\python\\python310\\site-packages (from transformers[torch]) (4.66.4)\n",
            "Requirement already satisfied: requests in c:\\users\\abdou\\appdata\\roaming\\python\\python310\\site-packages (from transformers[torch]) (2.32.3)\n",
            "Requirement already satisfied: numpy<2.0,>=1.17 in c:\\users\\abdou\\appdata\\roaming\\python\\python310\\site-packages (from transformers[torch]) (1.23.2)\n",
            "Requirement already satisfied: safetensors>=0.4.1 in c:\\users\\abdou\\appdata\\roaming\\python\\python310\\site-packages (from transformers[torch]) (0.4.3)\n",
            "Requirement already satisfied: pyyaml>=5.1 in c:\\users\\abdou\\appdata\\roaming\\python\\python310\\site-packages (from transformers[torch]) (6.0.1)\n",
            "Requirement already satisfied: tokenizers<0.20,>=0.19 in c:\\users\\abdou\\appdata\\roaming\\python\\python310\\site-packages (from transformers[torch]) (0.19.1)\n",
            "Requirement already satisfied: filelock in c:\\users\\abdou\\appdata\\roaming\\python\\python310\\site-packages (from transformers[torch]) (3.4.2)\n",
            "Requirement already satisfied: torch in c:\\users\\abdou\\appdata\\roaming\\python\\python310\\site-packages (from transformers[torch]) (2.2.0+cu121)\n",
            "Requirement already satisfied: accelerate>=0.21.0 in c:\\users\\abdou\\appdata\\roaming\\python\\python310\\site-packages (from transformers[torch]) (0.31.0)\n",
            "Requirement already satisfied: pyarrow>=15.0.0 in c:\\users\\abdou\\appdata\\roaming\\python\\python310\\site-packages (from datasets) (16.1.0)\n",
            "Requirement already satisfied: dill<0.3.9,>=0.3.0 in c:\\users\\abdou\\appdata\\roaming\\python\\python310\\site-packages (from datasets) (0.3.8)\n",
            "Requirement already satisfied: xxhash in c:\\users\\abdou\\appdata\\roaming\\python\\python310\\site-packages (from datasets) (3.4.1)\n",
            "Requirement already satisfied: fsspec[http]<=2024.5.0,>=2023.1.0 in c:\\users\\abdou\\appdata\\roaming\\python\\python310\\site-packages (from datasets) (2023.12.2)\n",
            "Requirement already satisfied: pyarrow-hotfix in c:\\users\\abdou\\appdata\\roaming\\python\\python310\\site-packages (from datasets) (0.6)\n",
            "Requirement already satisfied: pandas in c:\\users\\abdou\\appdata\\roaming\\python\\python310\\site-packages (from datasets) (2.2.0)\n",
            "Requirement already satisfied: aiohttp in c:\\users\\abdou\\appdata\\roaming\\python\\python310\\site-packages (from datasets) (3.9.5)\n",
            "Requirement already satisfied: multiprocess in c:\\users\\abdou\\appdata\\roaming\\python\\python310\\site-packages (from datasets) (0.70.16)\n",
            "Requirement already satisfied: scikit-learn>=0.21.3 in c:\\users\\abdou\\appdata\\roaming\\python\\python310\\site-packages (from seqeval) (1.5.0)\n",
            "Requirement already satisfied: psutil in c:\\users\\abdou\\appdata\\roaming\\python\\python310\\site-packages (from accelerate>=0.21.0->transformers[torch]) (5.9.8)\n",
            "Requirement already satisfied: aiosignal>=1.1.2 in c:\\users\\abdou\\appdata\\roaming\\python\\python310\\site-packages (from aiohttp->datasets) (1.3.1)\n",
            "Requirement already satisfied: yarl<2.0,>=1.0 in c:\\users\\abdou\\appdata\\roaming\\python\\python310\\site-packages (from aiohttp->datasets) (1.9.4)\n",
            "Requirement already satisfied: frozenlist>=1.1.1 in c:\\users\\abdou\\appdata\\roaming\\python\\python310\\site-packages (from aiohttp->datasets) (1.4.1)\n",
            "Requirement already satisfied: attrs>=17.3.0 in c:\\users\\abdou\\appdata\\roaming\\python\\python310\\site-packages (from aiohttp->datasets) (23.2.0)\n",
            "Requirement already satisfied: multidict<7.0,>=4.5 in c:\\users\\abdou\\appdata\\roaming\\python\\python310\\site-packages (from aiohttp->datasets) (6.0.5)\n",
            "Requirement already satisfied: async-timeout<5.0,>=4.0 in c:\\users\\abdou\\appdata\\roaming\\python\\python310\\site-packages (from aiohttp->datasets) (4.0.3)\n",
            "Requirement already satisfied: typing-extensions>=3.7.4.3 in c:\\users\\abdou\\appdata\\roaming\\python\\python310\\site-packages (from huggingface-hub<1.0,>=0.23.2->transformers[torch]) (4.8.0)\n",
            "Requirement already satisfied: urllib3<3,>=1.21.1 in c:\\users\\abdou\\appdata\\roaming\\python\\python310\\site-packages (from requests->transformers[torch]) (1.26.8)\n",
            "Requirement already satisfied: idna<4,>=2.5 in c:\\users\\abdou\\appdata\\roaming\\python\\python310\\site-packages (from requests->transformers[torch]) (3.3)\n",
            "Requirement already satisfied: charset-normalizer<4,>=2 in c:\\users\\abdou\\appdata\\roaming\\python\\python310\\site-packages (from requests->transformers[torch]) (2.0.10)\n",
            "Requirement already satisfied: certifi>=2017.4.17 in c:\\users\\abdou\\appdata\\roaming\\python\\python310\\site-packages (from requests->transformers[torch]) (2021.10.8)\n",
            "Requirement already satisfied: threadpoolctl>=3.1.0 in c:\\users\\abdou\\appdata\\roaming\\python\\python310\\site-packages (from scikit-learn>=0.21.3->seqeval) (3.5.0)\n",
            "Requirement already satisfied: joblib>=1.2.0 in c:\\users\\abdou\\appdata\\roaming\\python\\python310\\site-packages (from scikit-learn>=0.21.3->seqeval) (1.4.2)\n",
            "Requirement already satisfied: scipy>=1.6.0 in c:\\users\\abdou\\appdata\\roaming\\python\\python310\\site-packages (from scikit-learn>=0.21.3->seqeval) (1.13.0)\n",
            "Requirement already satisfied: jinja2 in c:\\users\\abdou\\appdata\\roaming\\python\\python310\\site-packages (from torch->transformers[torch]) (3.1.2)\n",
            "Requirement already satisfied: networkx in c:\\users\\abdou\\appdata\\roaming\\python\\python310\\site-packages (from torch->transformers[torch]) (3.0)\n",
            "Requirement already satisfied: sympy in c:\\users\\abdou\\appdata\\roaming\\python\\python310\\site-packages (from torch->transformers[torch]) (1.12)\n",
            "Requirement already satisfied: colorama in c:\\users\\abdou\\appdata\\roaming\\python\\python310\\site-packages (from tqdm>=4.27->transformers[torch]) (0.4.6)\n",
            "Requirement already satisfied: tzdata>=2022.7 in c:\\users\\abdou\\appdata\\roaming\\python\\python310\\site-packages (from pandas->datasets) (2023.4)\n",
            "Requirement already satisfied: pytz>=2020.1 in c:\\users\\abdou\\appdata\\roaming\\python\\python310\\site-packages (from pandas->datasets) (2023.4)\n",
            "Requirement already satisfied: python-dateutil>=2.8.2 in c:\\users\\abdou\\appdata\\roaming\\python\\python310\\site-packages (from pandas->datasets) (2.8.2)\n",
            "Requirement already satisfied: six>=1.5 in c:\\users\\abdou\\appdata\\roaming\\python\\python310\\site-packages (from python-dateutil>=2.8.2->pandas->datasets) (1.16.0)\n",
            "Requirement already satisfied: MarkupSafe>=2.0 in c:\\users\\abdou\\appdata\\roaming\\python\\python310\\site-packages (from jinja2->torch->transformers[torch]) (2.1.3)\n",
            "Requirement already satisfied: mpmath>=0.19 in c:\\users\\abdou\\appdata\\roaming\\python\\python310\\site-packages (from sympy->torch->transformers[torch]) (1.3.0)\n"
          ]
        },
        {
          "name": "stderr",
          "output_type": "stream",
          "text": [
            "WARNING: You are using pip version 22.0.4; however, version 24.1.1 is available.\n",
            "You should consider upgrading via the 'C:\\Program Files\\Python310\\python.exe -m pip install --upgrade pip' command.\n"
          ]
        }
      ],
      "source": [
        "!pip install transformers[torch] datasets evaluate seqeval"
      ]
    },
    {
      "cell_type": "code",
      "execution_count": 1,
      "metadata": {
        "id": "ngaGST1EYKLK"
      },
      "outputs": [],
      "source": [
        "from datasets import load_dataset\n",
        "\n",
        "dataset = load_dataset(\"eriktks/conll2003\", trust_remote_code=True)\n",
        "dataset['train'] = dataset['train'].shuffle(seed=42).select(range(1000))\n",
        "dataset['test'] = dataset['test'].shuffle(seed=42).select(range(1000))"
      ]
    },
    {
      "cell_type": "code",
      "execution_count": 60,
      "metadata": {
        "colab": {
          "base_uri": "https://localhost:8080/"
        },
        "id": "pQT9My_Baveb",
        "outputId": "317b50c8-ae49-47b2-90e0-99481168825a"
      },
      "outputs": [
        {
          "data": {
            "text/plain": [
              "DatasetDict({\n",
              "    train: Dataset({\n",
              "        features: ['id', 'tokens', 'pos_tags', 'chunk_tags', 'ner_tags'],\n",
              "        num_rows: 1000\n",
              "    })\n",
              "    validation: Dataset({\n",
              "        features: ['id', 'tokens', 'pos_tags', 'chunk_tags', 'ner_tags'],\n",
              "        num_rows: 3250\n",
              "    })\n",
              "    test: Dataset({\n",
              "        features: ['id', 'tokens', 'pos_tags', 'chunk_tags', 'ner_tags'],\n",
              "        num_rows: 1000\n",
              "    })\n",
              "})"
            ]
          },
          "execution_count": 60,
          "metadata": {},
          "output_type": "execute_result"
        }
      ],
      "source": [
        "dataset"
      ]
    },
    {
      "cell_type": "code",
      "execution_count": 2,
      "metadata": {
        "colab": {
          "base_uri": "https://localhost:8080/"
        },
        "id": "-eSjrjn8adW3",
        "outputId": "f266af97-65d5-40e0-ddbf-75484ba582e8"
      },
      "outputs": [
        {
          "data": {
            "text/plain": [
              "{'id': '122',\n",
              " 'tokens': ['TUNIS', '1996-08-22'],\n",
              " 'pos_tags': [24, 11],\n",
              " 'chunk_tags': [11, 12],\n",
              " 'ner_tags': [5, 0]}"
            ]
          },
          "execution_count": 2,
          "metadata": {},
          "output_type": "execute_result"
        }
      ],
      "source": [
        "dataset[\"train\"][1]"
      ]
    },
    {
      "cell_type": "code",
      "execution_count": 3,
      "metadata": {
        "colab": {
          "base_uri": "https://localhost:8080/"
        },
        "id": "tGoPcEJSyonM",
        "outputId": "3c2ceec2-5c88-4e2a-c748-cfb84da6246c"
      },
      "outputs": [
        {
          "data": {
            "text/plain": [
              "['O', 'B-PER', 'I-PER', 'B-ORG', 'I-ORG', 'B-LOC', 'I-LOC', 'B-MISC', 'I-MISC']"
            ]
          },
          "execution_count": 3,
          "metadata": {},
          "output_type": "execute_result"
        }
      ],
      "source": [
        "label_list = dataset[\"train\"].features[f\"ner_tags\"].feature.names\n",
        "label_list"
      ]
    },
    {
      "cell_type": "code",
      "execution_count": 5,
      "metadata": {
        "id": "s-u1y8x5zzaJ"
      },
      "outputs": [],
      "source": [
        "from transformers import AutoTokenizer\n",
        "tokenizer = AutoTokenizer.from_pretrained(\"bert-base-uncased\")"
      ]
    },
    {
      "cell_type": "code",
      "execution_count": 6,
      "metadata": {
        "colab": {
          "base_uri": "https://localhost:8080/"
        },
        "id": "nmna1Bfj0S0A",
        "outputId": "694d5968-f708-46b6-d3da-28f7de6b3dda"
      },
      "outputs": [
        {
          "data": {
            "text/plain": [
              "['[CLS]', 'tunis', '1996', '-', '08', '-', '22', '[SEP]']"
            ]
          },
          "execution_count": 6,
          "metadata": {},
          "output_type": "execute_result"
        }
      ],
      "source": [
        "example = dataset[\"train\"][1]\n",
        "tokenized_input = tokenizer(example[\"tokens\"], is_split_into_words=True)\n",
        "tokens = tokenizer.convert_ids_to_tokens(tokenized_input[\"input_ids\"])\n",
        "tokens"
      ]
    },
    {
      "cell_type": "code",
      "execution_count": 7,
      "metadata": {
        "colab": {
          "base_uri": "https://localhost:8080/"
        },
        "id": "72jy8PqY89bb",
        "outputId": "a3e05fbc-3da5-4c1f-dde4-bc33e66468ee"
      },
      "outputs": [
        {
          "data": {
            "text/plain": [
              "[None, 0, 1, 1, 1, 1, 1, None]"
            ]
          },
          "execution_count": 7,
          "metadata": {},
          "output_type": "execute_result"
        }
      ],
      "source": [
        "tokenized_input.word_ids()"
      ]
    },
    {
      "cell_type": "code",
      "execution_count": 9,
      "metadata": {
        "id": "WqCudGSExKJu"
      },
      "outputs": [],
      "source": [
        "def tokenize_and_preserve_labels(sentence):\n",
        "    tokenized_sentence = tokenizer(sentence[\"tokens\"], is_split_into_words=True)\n",
        "    labels = []\n",
        "    for word_idx in tokenized_sentence.word_ids():\n",
        "        label = tokenized_input.word_ids\n",
        "        if word_idx is None:\n",
        "            labels.append(-100)\n",
        "        else:\n",
        "            labels.append(sentence[\"ner_tags\"][word_idx])\n",
        "    tokenized_sentence[\"labels\"] = labels\n",
        "    return tokenized_sentence"
      ]
    },
    {
      "cell_type": "code",
      "execution_count": 10,
      "metadata": {
        "colab": {
          "base_uri": "https://localhost:8080/"
        },
        "id": "8FwtpwGn3GWY",
        "outputId": "6bfe80dd-780e-4131-c53e-ee333f1c8b54"
      },
      "outputs": [
        {
          "name": "stdout",
          "output_type": "stream",
          "text": [
            "{'input_ids': [101, 25317, 2727, 1011, 5511, 1011, 2570, 102], 'token_type_ids': [0, 0, 0, 0, 0, 0, 0, 0], 'attention_mask': [1, 1, 1, 1, 1, 1, 1, 1], 'labels': [-100, 5, 0, 0, 0, 0, 0, -100]}\n"
          ]
        }
      ],
      "source": [
        "sentence = dataset[\"train\"][1]\n",
        "tokenized_sentence = tokenize_and_preserve_labels(sentence)\n",
        "print(tokenized_sentence)\n",
        "# print([dataset[\"train\"].features[f\"ner_tags\"].feature.names[label] for label in tokenized_sentence.labels if label >= 0])"
      ]
    },
    {
      "cell_type": "code",
      "execution_count": 11,
      "metadata": {
        "colab": {
          "base_uri": "https://localhost:8080/",
          "height": 113,
          "referenced_widgets": [
            "d7a8c622c362403fae8d87511fc5c2e4",
            "f7b3b987b9194653b580eb01bc3f2f1b",
            "bef466a5fb1346a6b6e520e901e6cbd8",
            "3c1de1b1c82349d683788639e7ac3bfd",
            "43bd5f6f58ad418e8a82940101929fd1",
            "bb074b6116eb412ea2f274363515d3bc",
            "7963f2a29adc4443bf3ffee316f27de5",
            "c92c45fc5cd04d44a816ea7e7ba38bb2",
            "3caaed743173467eb1eced8c77d32827",
            "b8bc47858fcd42cf8867657a5623976c",
            "6b6383f3d3674adaae82d9bb8a18c2f4",
            "e9bf2dba77a34fc785183cbd000f91b4",
            "12d4b11c3cf14324a2b37ae36654c3fa",
            "f750de2900c64b72bad32b3bda66d65f",
            "4df709c321e046eba459c9781f3bd114",
            "b17b352310d246a3bb81558adca1ee7a",
            "e42cfe12cec3420a9cac8ef816463c7d",
            "f43d68e20549490ca8b5d9c15831180e",
            "15af2ff9a7fd43348913f6100ec69e4d",
            "8edbedc615184165b62353b517799d44",
            "cbd3e447a6ff4d8195f2df06f991fb21",
            "558db325b7a24f02b5416cc5baab699a",
            "e00c3211bc2542c6817681d0ac3879e2",
            "d4672b323834446eb7d983048dbd1dc3",
            "32662dcbaec94a4c87a15b3babf775f2",
            "48cb7c4e1bf4415b95b26b9c849f9f62",
            "42567faaaa5840bd879fa62afad2f513",
            "72abe89069f54625a1d73768806c6342",
            "98d2a0bfb6db47a3a67a6a2770c29507",
            "c806f84c0c7e4383a11184040244c9b3",
            "c6f0a586d24940f1843033d8ba860db5",
            "6b9d5456542b44979fdb3ff80c15ca56",
            "b37a6f028c6b4f14a7a9ed58a4273d2e"
          ]
        },
        "id": "XL3n1P5n5RnO",
        "outputId": "41cda25b-08d4-4355-b098-193c3381780b"
      },
      "outputs": [
        {
          "data": {
            "application/vnd.jupyter.widget-view+json": {
              "model_id": "e4bba01883c14577addbf156f7453be0",
              "version_major": 2,
              "version_minor": 0
            },
            "text/plain": [
              "Map:   0%|          | 0/1000 [00:00<?, ? examples/s]"
            ]
          },
          "metadata": {},
          "output_type": "display_data"
        },
        {
          "data": {
            "application/vnd.jupyter.widget-view+json": {
              "model_id": "9bcf386d853a49338c62550582aac8a1",
              "version_major": 2,
              "version_minor": 0
            },
            "text/plain": [
              "Map:   0%|          | 0/3250 [00:00<?, ? examples/s]"
            ]
          },
          "metadata": {},
          "output_type": "display_data"
        },
        {
          "data": {
            "application/vnd.jupyter.widget-view+json": {
              "model_id": "bb0bf3e27a464f81be81501264930506",
              "version_major": 2,
              "version_minor": 0
            },
            "text/plain": [
              "Map:   0%|          | 0/1000 [00:00<?, ? examples/s]"
            ]
          },
          "metadata": {},
          "output_type": "display_data"
        }
      ],
      "source": [
        "tokenized_dataset = dataset.map(tokenize_and_preserve_labels)"
      ]
    },
    {
      "cell_type": "code",
      "execution_count": 69,
      "metadata": {
        "id": "mC2kvLGxXkXr"
      },
      "outputs": [],
      "source": [
        "from transformers import DataCollatorForTokenClassification\n",
        "data_collator = DataCollatorForTokenClassification(tokenizer=tokenizer)"
      ]
    },
    {
      "cell_type": "code",
      "execution_count": 70,
      "metadata": {
        "id": "QPKInIMrXr_W"
      },
      "outputs": [],
      "source": [
        "import evaluate\n",
        "seqeval = evaluate.load(\"seqeval\")"
      ]
    },
    {
      "cell_type": "code",
      "execution_count": 71,
      "metadata": {
        "id": "GowRejcPZv1g"
      },
      "outputs": [],
      "source": [
        "import numpy as np\n",
        "\n",
        "labels = [label_list[i] for i in example[f\"ner_tags\"]]\n",
        "def compute_metrics(p):\n",
        "    predictions, labels = p\n",
        "    predictions = np.argmax(predictions, axis=2)\n",
        "\n",
        "    true_predictions = [\n",
        "        [label_list[p] for (p, l) in zip(prediction, label) if l != -100]\n",
        "        for prediction, label in zip(predictions, labels)\n",
        "    ]\n",
        "    true_labels = [\n",
        "        [label_list[l] for (p, l) in zip(prediction, label) if l != -100]\n",
        "        for prediction, label in zip(predictions, labels)\n",
        "    ]\n",
        "\n",
        "    results = seqeval.compute(predictions=true_predictions, references=true_labels)\n",
        "    return {\n",
        "        \"precision\": results[\"overall_precision\"],\n",
        "        \"recall\": results[\"overall_recall\"],\n",
        "        \"f1\": results[\"overall_f1\"],\n",
        "        \"accuracy\": results[\"overall_accuracy\"],\n",
        "    }"
      ]
    },
    {
      "cell_type": "code",
      "execution_count": 72,
      "metadata": {
        "id": "dLWcYSVTZ_cs"
      },
      "outputs": [],
      "source": [
        "id2label = dict(zip(range(len(label_list)), label_list))\n",
        "label2id = {v: k for k, v in id2label.items()}"
      ]
    },
    {
      "cell_type": "code",
      "execution_count": 73,
      "metadata": {
        "colab": {
          "base_uri": "https://localhost:8080/",
          "height": 105,
          "referenced_widgets": [
            "d1ebf80bf2dd4ad4b675c8d1c25c8dcd",
            "70572fc5ebc04a608293799e4e4685f6",
            "46d2378a974b4174bf63245cd82c3332",
            "95e78b9075514d5da591d49e6df656a7",
            "c94bd80767f54d12bfa99c490f3ec75a",
            "f02e6693a0b845abad6e391036543b31",
            "1a651461375849bf90f0b06225c8ca36",
            "0bc6e938d1ed479ea9340d9ed908f904",
            "d496e613223543ed888da5dc44fb72cb",
            "ea1b817376b64639981903323e5d789e",
            "ff3954d891c9458eb94ebdb4d7c72e3b"
          ]
        },
        "id": "xapxJnLCwBM8",
        "outputId": "f64b5b54-305d-456e-e619-dda3969af806"
      },
      "outputs": [
        {
          "name": "stderr",
          "output_type": "stream",
          "text": [
            "Some weights of BertForTokenClassification were not initialized from the model checkpoint at bert-base-uncased and are newly initialized: ['classifier.bias', 'classifier.weight']\n",
            "You should probably TRAIN this model on a down-stream task to be able to use it for predictions and inference.\n"
          ]
        }
      ],
      "source": [
        "import torch\n",
        "from transformers import BertTokenizer, BertForTokenClassification, TrainingArguments, Trainer\n",
        "from transformers import AdamW, get_linear_schedule_with_warmup\n",
        "from torch.utils.data import DataLoader\n",
        "\n",
        "# Load the BERT tokenizer and model\n",
        "tokenizer = BertTokenizer.from_pretrained(\"bert-base-uncased\")\n",
        "model = BertForTokenClassification.from_pretrained(\"bert-base-uncased\", num_labels=len(label_list), id2label=id2label, label2id=label2id)\n"
      ]
    },
    {
      "cell_type": "code",
      "execution_count": 75,
      "metadata": {
        "colab": {
          "base_uri": "https://localhost:8080/",
          "height": 575
        },
        "id": "mNwAeNdQbRxT",
        "outputId": "e31b084e-3178-4b05-e215-cb1c8cedb964"
      },
      "outputs": [
        {
          "name": "stderr",
          "output_type": "stream",
          "text": [
            "  2%|▏         | 5/320 [1:16:40<80:30:08, 920.03s/it]\n",
            " 25%|██▌       | 5/20 [1:12:08<3:36:25, 865.69s/it]\n",
            "\n",
            "  5%|▌         | 32/640 [00:30<07:30,  1.35it/s]"
          ]
        },
        {
          "name": "stdout",
          "output_type": "stream",
          "text": [
            "{'loss': 0.9182, 'grad_norm': 2.607381582260132, 'learning_rate': 1.9e-05, 'epoch': 1.0}\n"
          ]
        },
        {
          "name": "stderr",
          "output_type": "stream",
          "text": [
            "\n",
            "  5%|▌         | 32/640 [00:40<07:30,  1.35it/s]"
          ]
        },
        {
          "name": "stdout",
          "output_type": "stream",
          "text": [
            "{'eval_loss': 0.45416268706321716, 'eval_precision': 0.39387387387387385, 'eval_recall': 0.44358766233766234, 'eval_f1': 0.41725520137430805, 'eval_accuracy': 0.8793269230769231, 'eval_runtime': 9.0708, 'eval_samples_per_second': 110.243, 'eval_steps_per_second': 3.528, 'epoch': 1.0}\n"
          ]
        },
        {
          "name": "stderr",
          "output_type": "stream",
          "text": [
            " 10%|█         | 64/640 [01:10<08:19,  1.15it/s]"
          ]
        },
        {
          "name": "stdout",
          "output_type": "stream",
          "text": [
            "{'loss': 0.3302, 'grad_norm': 8.488222122192383, 'learning_rate': 1.8e-05, 'epoch': 2.0}\n"
          ]
        },
        {
          "name": "stderr",
          "output_type": "stream",
          "text": [
            "\n",
            " 10%|█         | 64/640 [01:19<08:19,  1.15it/s]"
          ]
        },
        {
          "name": "stdout",
          "output_type": "stream",
          "text": [
            "{'eval_loss': 0.26295217871665955, 'eval_precision': 0.5574852379298367, 'eval_recall': 0.6513798701298701, 'eval_f1': 0.6007860752386299, 'eval_accuracy': 0.9260216346153847, 'eval_runtime': 9.143, 'eval_samples_per_second': 109.373, 'eval_steps_per_second': 3.5, 'epoch': 2.0}\n"
          ]
        },
        {
          "name": "stderr",
          "output_type": "stream",
          "text": [
            " 15%|█▌        | 96/640 [01:51<08:10,  1.11it/s]"
          ]
        },
        {
          "name": "stdout",
          "output_type": "stream",
          "text": [
            "{'loss': 0.1968, 'grad_norm': 2.6798863410949707, 'learning_rate': 1.7e-05, 'epoch': 3.0}\n"
          ]
        },
        {
          "name": "stderr",
          "output_type": "stream",
          "text": [
            "\n",
            " 15%|█▌        | 96/640 [02:00<08:10,  1.11it/s]"
          ]
        },
        {
          "name": "stdout",
          "output_type": "stream",
          "text": [
            "{'eval_loss': 0.19574446976184845, 'eval_precision': 0.6776097381040207, 'eval_recall': 0.7455357142857143, 'eval_f1': 0.7099516908212561, 'eval_accuracy': 0.9459735576923077, 'eval_runtime': 9.1574, 'eval_samples_per_second': 109.201, 'eval_steps_per_second': 3.494, 'epoch': 3.0}\n"
          ]
        },
        {
          "name": "stderr",
          "output_type": "stream",
          "text": [
            " 20%|██        | 128/640 [02:33<08:53,  1.04s/it]"
          ]
        },
        {
          "name": "stdout",
          "output_type": "stream",
          "text": [
            "{'loss': 0.1224, 'grad_norm': 3.3818156719207764, 'learning_rate': 1.6000000000000003e-05, 'epoch': 4.0}\n"
          ]
        },
        {
          "name": "stderr",
          "output_type": "stream",
          "text": [
            "\n",
            " 20%|██        | 128/640 [02:43<08:53,  1.04s/it]"
          ]
        },
        {
          "name": "stdout",
          "output_type": "stream",
          "text": [
            "{'eval_loss': 0.1716826856136322, 'eval_precision': 0.7251824817518249, 'eval_recall': 0.8064123376623377, 'eval_f1': 0.7636433512682552, 'eval_accuracy': 0.9520432692307692, 'eval_runtime': 9.2197, 'eval_samples_per_second': 108.464, 'eval_steps_per_second': 3.471, 'epoch': 4.0}\n"
          ]
        },
        {
          "name": "stderr",
          "output_type": "stream",
          "text": [
            " 25%|██▌       | 160/640 [03:17<07:48,  1.02it/s]"
          ]
        },
        {
          "name": "stdout",
          "output_type": "stream",
          "text": [
            "{'loss': 0.0873, 'grad_norm': 1.4852325916290283, 'learning_rate': 1.5000000000000002e-05, 'epoch': 5.0}\n"
          ]
        },
        {
          "name": "stderr",
          "output_type": "stream",
          "text": [
            "\n",
            " 25%|██▌       | 160/640 [03:26<07:48,  1.02it/s]"
          ]
        },
        {
          "name": "stdout",
          "output_type": "stream",
          "text": [
            "{'eval_loss': 0.15623202919960022, 'eval_precision': 0.7609921082299888, 'eval_recall': 0.8218344155844156, 'eval_f1': 0.7902439024390244, 'eval_accuracy': 0.9559495192307692, 'eval_runtime': 9.2167, 'eval_samples_per_second': 108.499, 'eval_steps_per_second': 3.472, 'epoch': 5.0}\n"
          ]
        },
        {
          "name": "stderr",
          "output_type": "stream",
          "text": [
            " 30%|███       | 192/640 [04:00<05:16,  1.41it/s]"
          ]
        },
        {
          "name": "stdout",
          "output_type": "stream",
          "text": [
            "{'loss': 0.0599, 'grad_norm': 4.986809730529785, 'learning_rate': 1.4e-05, 'epoch': 6.0}\n"
          ]
        },
        {
          "name": "stderr",
          "output_type": "stream",
          "text": [
            "\n",
            " 30%|███       | 192/640 [04:09<05:16,  1.41it/s]"
          ]
        },
        {
          "name": "stdout",
          "output_type": "stream",
          "text": [
            "{'eval_loss': 0.1563323736190796, 'eval_precision': 0.8204518430439952, 'eval_recall': 0.8400974025974026, 'eval_f1': 0.8301584118708641, 'eval_accuracy': 0.9626802884615384, 'eval_runtime': 9.3277, 'eval_samples_per_second': 107.208, 'eval_steps_per_second': 3.431, 'epoch': 6.0}\n"
          ]
        },
        {
          "name": "stderr",
          "output_type": "stream",
          "text": [
            " 35%|███▌      | 224/640 [04:48<06:36,  1.05it/s]"
          ]
        },
        {
          "name": "stdout",
          "output_type": "stream",
          "text": [
            "{'loss': 0.0404, 'grad_norm': 0.7879953384399414, 'learning_rate': 1.3000000000000001e-05, 'epoch': 7.0}\n"
          ]
        },
        {
          "name": "stderr",
          "output_type": "stream",
          "text": [
            "\n",
            " 35%|███▌      | 224/640 [04:58<06:36,  1.05it/s]"
          ]
        },
        {
          "name": "stdout",
          "output_type": "stream",
          "text": [
            "{'eval_loss': 0.15764833986759186, 'eval_precision': 0.8074558032282859, 'eval_recall': 0.8526785714285714, 'eval_f1': 0.8294512435846823, 'eval_accuracy': 0.9622596153846154, 'eval_runtime': 9.3975, 'eval_samples_per_second': 106.412, 'eval_steps_per_second': 3.405, 'epoch': 7.0}\n"
          ]
        },
        {
          "name": "stderr",
          "output_type": "stream",
          "text": [
            " 40%|████      | 256/640 [05:29<06:10,  1.04it/s]"
          ]
        },
        {
          "name": "stdout",
          "output_type": "stream",
          "text": [
            "{'loss': 0.031, 'grad_norm': 1.4366204738616943, 'learning_rate': 1.2e-05, 'epoch': 8.0}\n"
          ]
        },
        {
          "name": "stderr",
          "output_type": "stream",
          "text": [
            "\n",
            " 40%|████      | 256/640 [05:39<06:10,  1.04it/s]"
          ]
        },
        {
          "name": "stdout",
          "output_type": "stream",
          "text": [
            "{'eval_loss': 0.16201910376548767, 'eval_precision': 0.8224736636753804, 'eval_recall': 0.8555194805194806, 'eval_f1': 0.838671175651482, 'eval_accuracy': 0.9632211538461538, 'eval_runtime': 9.3956, 'eval_samples_per_second': 106.433, 'eval_steps_per_second': 3.406, 'epoch': 8.0}\n"
          ]
        },
        {
          "name": "stderr",
          "output_type": "stream",
          "text": [
            " 45%|████▌     | 288/640 [06:12<03:58,  1.47it/s]"
          ]
        },
        {
          "name": "stdout",
          "output_type": "stream",
          "text": [
            "{'loss': 0.0217, 'grad_norm': 0.7940471172332764, 'learning_rate': 1.1000000000000001e-05, 'epoch': 9.0}\n"
          ]
        },
        {
          "name": "stderr",
          "output_type": "stream",
          "text": [
            "\n",
            " 45%|████▌     | 288/640 [06:21<03:58,  1.47it/s]"
          ]
        },
        {
          "name": "stdout",
          "output_type": "stream",
          "text": [
            "{'eval_loss': 0.16381290555000305, 'eval_precision': 0.8230977211278486, 'eval_recall': 0.8648538961038961, 'eval_f1': 0.8434593310904412, 'eval_accuracy': 0.9631610576923076, 'eval_runtime': 9.3497, 'eval_samples_per_second': 106.956, 'eval_steps_per_second': 3.423, 'epoch': 9.0}\n"
          ]
        },
        {
          "name": "stderr",
          "output_type": "stream",
          "text": [
            " 50%|█████     | 320/640 [06:56<05:20,  1.00s/it]"
          ]
        },
        {
          "name": "stdout",
          "output_type": "stream",
          "text": [
            "{'loss': 0.0158, 'grad_norm': 0.38473963737487793, 'learning_rate': 1e-05, 'epoch': 10.0}\n"
          ]
        },
        {
          "name": "stderr",
          "output_type": "stream",
          "text": [
            "\n",
            " 50%|█████     | 320/640 [07:05<05:20,  1.00s/it]"
          ]
        },
        {
          "name": "stdout",
          "output_type": "stream",
          "text": [
            "{'eval_loss': 0.16279751062393188, 'eval_precision': 0.8271173271173271, 'eval_recall': 0.8640422077922078, 'eval_f1': 0.8451766574037316, 'eval_accuracy': 0.9647235576923077, 'eval_runtime': 9.3807, 'eval_samples_per_second': 106.602, 'eval_steps_per_second': 3.411, 'epoch': 10.0}\n"
          ]
        },
        {
          "name": "stderr",
          "output_type": "stream",
          "text": [
            " 55%|█████▌    | 352/640 [07:37<03:34,  1.34it/s]"
          ]
        },
        {
          "name": "stdout",
          "output_type": "stream",
          "text": [
            "{'loss': 0.0142, 'grad_norm': 0.5877482295036316, 'learning_rate': 9e-06, 'epoch': 11.0}\n"
          ]
        },
        {
          "name": "stderr",
          "output_type": "stream",
          "text": [
            "\n",
            " 55%|█████▌    | 352/640 [07:47<03:34,  1.34it/s]"
          ]
        },
        {
          "name": "stdout",
          "output_type": "stream",
          "text": [
            "{'eval_loss': 0.16631349921226501, 'eval_precision': 0.8359872611464968, 'eval_recall': 0.8522727272727273, 'eval_f1': 0.8440514469453375, 'eval_accuracy': 0.9640625, 'eval_runtime': 9.4128, 'eval_samples_per_second': 106.238, 'eval_steps_per_second': 3.4, 'epoch': 11.0}\n"
          ]
        },
        {
          "name": "stderr",
          "output_type": "stream",
          "text": [
            " 60%|██████    | 384/640 [08:19<04:44,  1.11s/it]"
          ]
        },
        {
          "name": "stdout",
          "output_type": "stream",
          "text": [
            "{'loss': 0.0096, 'grad_norm': 0.05484321340918541, 'learning_rate': 8.000000000000001e-06, 'epoch': 12.0}\n"
          ]
        },
        {
          "name": "stderr",
          "output_type": "stream",
          "text": [
            "\n",
            " 60%|██████    | 384/640 [08:29<04:44,  1.11s/it]"
          ]
        },
        {
          "name": "stdout",
          "output_type": "stream",
          "text": [
            "{'eval_loss': 0.17293499410152435, 'eval_precision': 0.8260869565217391, 'eval_recall': 0.8636363636363636, 'eval_f1': 0.8444444444444444, 'eval_accuracy': 0.96484375, 'eval_runtime': 9.5318, 'eval_samples_per_second': 104.912, 'eval_steps_per_second': 3.357, 'epoch': 12.0}\n"
          ]
        },
        {
          "name": "stderr",
          "output_type": "stream",
          "text": [
            " 65%|██████▌   | 416/640 [09:03<03:50,  1.03s/it]"
          ]
        },
        {
          "name": "stdout",
          "output_type": "stream",
          "text": [
            "{'loss': 0.009, 'grad_norm': 0.12010996788740158, 'learning_rate': 7e-06, 'epoch': 13.0}\n"
          ]
        },
        {
          "name": "stderr",
          "output_type": "stream",
          "text": [
            "\n",
            " 65%|██████▌   | 416/640 [09:12<03:50,  1.03s/it]"
          ]
        },
        {
          "name": "stdout",
          "output_type": "stream",
          "text": [
            "{'eval_loss': 0.17513729631900787, 'eval_precision': 0.8327430145611964, 'eval_recall': 0.8587662337662337, 'eval_f1': 0.8455544455544455, 'eval_accuracy': 0.9641225961538461, 'eval_runtime': 9.5479, 'eval_samples_per_second': 104.735, 'eval_steps_per_second': 3.352, 'epoch': 13.0}\n"
          ]
        },
        {
          "name": "stderr",
          "output_type": "stream",
          "text": [
            " 70%|███████   | 448/640 [13:44<20:57,  6.55s/it]  "
          ]
        },
        {
          "name": "stdout",
          "output_type": "stream",
          "text": [
            "{'loss': 0.0081, 'grad_norm': 0.2040250152349472, 'learning_rate': 6e-06, 'epoch': 14.0}\n"
          ]
        },
        {
          "name": "stderr",
          "output_type": "stream",
          "text": [
            "\n",
            " 70%|███████   | 448/640 [13:54<20:57,  6.55s/it]"
          ]
        },
        {
          "name": "stdout",
          "output_type": "stream",
          "text": [
            "{'eval_loss': 0.17555972933769226, 'eval_precision': 0.8290498442367601, 'eval_recall': 0.8640422077922078, 'eval_f1': 0.8461844197138315, 'eval_accuracy': 0.9649038461538462, 'eval_runtime': 10.4207, 'eval_samples_per_second': 95.963, 'eval_steps_per_second': 3.071, 'epoch': 14.0}\n"
          ]
        },
        {
          "name": "stderr",
          "output_type": "stream",
          "text": [
            " 75%|███████▌  | 480/640 [14:31<02:12,  1.21it/s]"
          ]
        },
        {
          "name": "stdout",
          "output_type": "stream",
          "text": [
            "{'loss': 0.0079, 'grad_norm': 0.2026807963848114, 'learning_rate': 5e-06, 'epoch': 15.0}\n"
          ]
        },
        {
          "name": "stderr",
          "output_type": "stream",
          "text": [
            "\n",
            " 75%|███████▌  | 480/640 [14:39<02:12,  1.21it/s]"
          ]
        },
        {
          "name": "stdout",
          "output_type": "stream",
          "text": [
            "{'eval_loss': 0.1705150008201599, 'eval_precision': 0.8476794922649742, 'eval_recall': 0.867288961038961, 'eval_f1': 0.8573721163490471, 'eval_accuracy': 0.9672475961538461, 'eval_runtime': 8.658, 'eval_samples_per_second': 115.5, 'eval_steps_per_second': 3.696, 'epoch': 15.0}\n"
          ]
        },
        {
          "name": "stderr",
          "output_type": "stream",
          "text": [
            " 80%|████████  | 512/640 [15:12<02:01,  1.05it/s]"
          ]
        },
        {
          "name": "stdout",
          "output_type": "stream",
          "text": [
            "{'loss': 0.0065, 'grad_norm': 0.6953538656234741, 'learning_rate': 4.000000000000001e-06, 'epoch': 16.0}\n"
          ]
        },
        {
          "name": "stderr",
          "output_type": "stream",
          "text": [
            "\n",
            " 80%|████████  | 512/640 [15:21<02:01,  1.05it/s]"
          ]
        },
        {
          "name": "stdout",
          "output_type": "stream",
          "text": [
            "{'eval_loss': 0.17499056458473206, 'eval_precision': 0.8382410679230468, 'eval_recall': 0.8664772727272727, 'eval_f1': 0.8521253242865696, 'eval_accuracy': 0.9660456730769231, 'eval_runtime': 8.6218, 'eval_samples_per_second': 115.985, 'eval_steps_per_second': 3.712, 'epoch': 16.0}\n"
          ]
        },
        {
          "name": "stderr",
          "output_type": "stream",
          "text": [
            " 85%|████████▌ | 544/640 [15:55<01:58,  1.24s/it]"
          ]
        },
        {
          "name": "stdout",
          "output_type": "stream",
          "text": [
            "{'loss': 0.0058, 'grad_norm': 2.8957386016845703, 'learning_rate': 3e-06, 'epoch': 17.0}\n"
          ]
        },
        {
          "name": "stderr",
          "output_type": "stream",
          "text": [
            "\n",
            " 85%|████████▌ | 544/640 [16:03<01:58,  1.24s/it]"
          ]
        },
        {
          "name": "stdout",
          "output_type": "stream",
          "text": [
            "{'eval_loss': 0.17720235884189606, 'eval_precision': 0.8317214700193424, 'eval_recall': 0.872564935064935, 'eval_f1': 0.8516537928302634, 'eval_accuracy': 0.9649038461538462, 'eval_runtime': 8.6945, 'eval_samples_per_second': 115.015, 'eval_steps_per_second': 3.68, 'epoch': 17.0}\n"
          ]
        },
        {
          "name": "stderr",
          "output_type": "stream",
          "text": [
            " 90%|█████████ | 576/640 [16:39<00:46,  1.39it/s]"
          ]
        },
        {
          "name": "stdout",
          "output_type": "stream",
          "text": [
            "{'loss': 0.0055, 'grad_norm': 0.8026354312896729, 'learning_rate': 2.0000000000000003e-06, 'epoch': 18.0}\n"
          ]
        },
        {
          "name": "stderr",
          "output_type": "stream",
          "text": [
            "\n",
            " 90%|█████████ | 576/640 [16:48<00:46,  1.39it/s]"
          ]
        },
        {
          "name": "stdout",
          "output_type": "stream",
          "text": [
            "{'eval_loss': 0.1764291673898697, 'eval_precision': 0.8375634517766497, 'eval_recall': 0.8705357142857143, 'eval_f1': 0.853731343283582, 'eval_accuracy': 0.9659254807692308, 'eval_runtime': 8.6972, 'eval_samples_per_second': 114.979, 'eval_steps_per_second': 3.679, 'epoch': 18.0}\n"
          ]
        },
        {
          "name": "stderr",
          "output_type": "stream",
          "text": [
            " 95%|█████████▌| 608/640 [17:21<00:32,  1.00s/it]"
          ]
        },
        {
          "name": "stdout",
          "output_type": "stream",
          "text": [
            "{'loss': 0.0062, 'grad_norm': 0.2717408537864685, 'learning_rate': 1.0000000000000002e-06, 'epoch': 19.0}\n"
          ]
        },
        {
          "name": "stderr",
          "output_type": "stream",
          "text": [
            "\n",
            " 95%|█████████▌| 608/640 [17:30<00:32,  1.00s/it]"
          ]
        },
        {
          "name": "stdout",
          "output_type": "stream",
          "text": [
            "{'eval_loss': 0.17676006257534027, 'eval_precision': 0.8348231636222309, 'eval_recall': 0.8717532467532467, 'eval_f1': 0.85288862418106, 'eval_accuracy': 0.9654447115384616, 'eval_runtime': 8.6162, 'eval_samples_per_second': 116.06, 'eval_steps_per_second': 3.714, 'epoch': 19.0}\n"
          ]
        },
        {
          "name": "stderr",
          "output_type": "stream",
          "text": [
            "100%|██████████| 640/640 [18:02<00:00,  1.71it/s]"
          ]
        },
        {
          "name": "stdout",
          "output_type": "stream",
          "text": [
            "{'loss': 0.0052, 'grad_norm': 0.09328071773052216, 'learning_rate': 0.0, 'epoch': 20.0}\n"
          ]
        },
        {
          "name": "stderr",
          "output_type": "stream",
          "text": [
            "\n",
            "100%|██████████| 640/640 [18:10<00:00,  1.70s/it]"
          ]
        },
        {
          "name": "stdout",
          "output_type": "stream",
          "text": [
            "{'eval_loss': 0.17736123502254486, 'eval_precision': 0.8356643356643356, 'eval_recall': 0.8729707792207793, 'eval_f1': 0.8539102818578801, 'eval_accuracy': 0.9653245192307692, 'eval_runtime': 8.7063, 'eval_samples_per_second': 114.859, 'eval_steps_per_second': 3.675, 'epoch': 20.0}\n",
            "{'train_runtime': 1090.9846, 'train_samples_per_second': 18.332, 'train_steps_per_second': 0.587, 'train_loss': 0.09509727964177728, 'epoch': 20.0}\n"
          ]
        },
        {
          "name": "stderr",
          "output_type": "stream",
          "text": [
            "\n"
          ]
        },
        {
          "data": {
            "text/plain": [
              "TrainOutput(global_step=640, training_loss=0.09509727964177728, metrics={'train_runtime': 1090.9846, 'train_samples_per_second': 18.332, 'train_steps_per_second': 0.587, 'total_flos': 532821888083376.0, 'train_loss': 0.09509727964177728, 'epoch': 20.0})"
            ]
          },
          "execution_count": 75,
          "metadata": {},
          "output_type": "execute_result"
        }
      ],
      "source": [
        "training_args = TrainingArguments(\n",
        "    output_dir=\"ner-with-bert\",\n",
        "    overwrite_output_dir=True,\n",
        "    learning_rate=2e-5,\n",
        "    per_device_train_batch_size=32,\n",
        "    per_device_eval_batch_size=32,\n",
        "    num_train_epochs=20,\n",
        "    weight_decay=0.01,\n",
        "    eval_strategy=\"epoch\",\n",
        "    save_strategy=\"no\",\n",
        "    logging_strategy=\"epoch\",\n",
        "    # load_best_model_at_end=True,\n",
        "    # push_to_hub=True,\n",
        ")\n",
        "\n",
        "trainer = Trainer(\n",
        "    model=model,\n",
        "    args=training_args,\n",
        "    train_dataset=tokenized_dataset[\"train\"],\n",
        "    eval_dataset=tokenized_dataset[\"test\"],\n",
        "    tokenizer=tokenizer,\n",
        "    data_collator=data_collator,\n",
        "    compute_metrics=compute_metrics,\n",
        ")\n",
        "\n",
        "trainer.train()"
      ]
    },
    {
      "cell_type": "code",
      "execution_count": 76,
      "metadata": {},
      "outputs": [],
      "source": [
        "tokenized_dataset[\"test\"] = tokenized_dataset[\"test\"].shuffle().select(range(1000))"
      ]
    },
    {
      "cell_type": "code",
      "execution_count": 77,
      "metadata": {},
      "outputs": [
        {
          "name": "stderr",
          "output_type": "stream",
          "text": [
            "100%|██████████| 32/32 [00:08<00:00,  3.81it/s]\n"
          ]
        },
        {
          "name": "stdout",
          "output_type": "stream",
          "text": [
            "              precision    recall  f1-score   support\n",
            "\n",
            "         LOC       0.83      0.89      0.86       609\n",
            "        MISC       0.51      0.69      0.59       265\n",
            "         ORG       0.87      0.83      0.85       750\n",
            "         PER       0.95      0.96      0.95       840\n",
            "\n",
            "   micro avg       0.84      0.87      0.85      2464\n",
            "   macro avg       0.79      0.84      0.81      2464\n",
            "weighted avg       0.85      0.87      0.86      2464\n",
            "\n"
          ]
        }
      ],
      "source": [
        "from seqeval.metrics import classification_report\n",
        "predictions, labels, _ = trainer.predict(tokenized_dataset[\"test\"])\n",
        "predictions = np.argmax(predictions, axis=2)\n",
        "\n",
        "# Remove ignored index (special tokens)\n",
        "true_predictions = [\n",
        "    [label_list[p] for (p, l) in zip(prediction, label) if l != -100]\n",
        "    for prediction, label in zip(predictions, labels)\n",
        "]\n",
        "true_labels = [\n",
        "    [label_list[l] for (p, l) in zip(prediction, label) if l != -100]\n",
        "    for prediction, label in zip(predictions, labels)\n",
        "]\n",
        "print(classification_report(true_labels, true_predictions))"
      ]
    },
    {
      "cell_type": "code",
      "execution_count": 78,
      "metadata": {},
      "outputs": [
        {
          "data": {
            "image/png": "[encoded data removed]",
            "text/plain": [
              "<Figure size 400x300 with 1 Axes>"
            ]
          },
          "metadata": {},
          "output_type": "display_data"
        }
      ],
      "source": [
        "import pandas as pd\n",
        "import matplotlib.pyplot as plt\n",
        "df = pd.DataFrame(trainer.state.log_history)\n",
        "plt.figure(figsize=(4, 3))\n",
        "plt.plot(df[\"epoch\"], df[\"eval_loss\"], marker=\"--o\", label=\"Evaluation loss\")\n",
        "plt.plot(df[\"epoch\"], df[\"eval_accuracy\"], marker=\"--o\", label=\"Evaluation loss\")\n",
        "# df.plot(\"epoch\", [\"eval_loss\", \"eval_accuracy\"], marker=\"o\")\n",
        "plt.xlabel(\"Epoch\")\n",
        "plt.grid()\n",
        "plt.legend()\n",
        "plt.tight_layout()\n",
        "plt.show()"
      ]
    },
    {
      "cell_type": "code",
      "execution_count": null,
      "metadata": {},
      "outputs": [],
      "source": [
        "n_examples = [10, 30, 100, 300, 1000]\n",
        "learning_curves = {\n",
        "    n: {\n",
        "        \"precision\": [],\n",
        "        \"recall\": [],\n",
        "        \"f1\": [],\n",
        "        \"accuracy\": [],\n",
        "    } for n in n_examples\n",
        "}\n",
        "for n in n_examples:\n",
        "    for _ in range(1):\n",
        "        model = BertForTokenClassification.from_pretrained(\n",
        "            \"bert-base-uncased\",\n",
        "            num_labels=len(label_list),\n",
        "            id2label=id2label,\n",
        "            label2id=label2id\n",
        "        )\n",
        "        \n",
        "        training_args = TrainingArguments(\n",
        "            output_dir=\"ner-with-bert\",\n",
        "            overwrite_output_dir=True,\n",
        "            learning_rate=2e-5,\n",
        "            per_device_train_batch_size=32,\n",
        "            per_device_eval_batch_size=32,\n",
        "            num_train_epochs=20,\n",
        "            weight_decay=0.01,\n",
        "            eval_strategy=\"epoch\",\n",
        "            save_strategy=\"no\",\n",
        "            logging_strategy=\"epoch\",\n",
        "            # load_best_model_at_end=True,\n",
        "            # push_to_hub=True,\n",
        "        )\n",
        "\n",
        "        trainer = Trainer(\n",
        "            model=model,\n",
        "            args=training_args,\n",
        "            train_dataset=tokenized_dataset[\"train\"].shuffle().select(range(n)),\n",
        "            eval_dataset=tokenized_dataset[\"test\"],\n",
        "            tokenizer=tokenizer,\n",
        "            data_collator=data_collator,\n",
        "            compute_metrics=compute_metrics,\n",
        "        )\n",
        "\n",
        "        trainer.train()\n",
        "        df = pd.DataFrame(trainer.state.log_history)\n",
        "        plt.figure(figsize=(4, 3))\n",
        "        plt.plot(df[\"epoch\"], df[\"eval_loss\"], marker=\"o\", label=\"Evaluation loss\")\n",
        "        plt.plot(df[\"epoch\"], df[\"eval_accuracy\"], marker=\"o\", label=\"Evaluation loss\")\n",
        "        # df.plot(\"epoch\", [\"eval_loss\", \"eval_accuracy\"], marker=\"o\")\n",
        "        plt.xlabel(\"Epoch\")\n",
        "        plt.grid()\n",
        "        plt.legend()\n",
        "        plt.tight_layout()\n",
        "        plt.show()\n",
        "\n",
        "        eval_scores = trainer.evaluate()\n",
        "        for metric in learning_curves[n]:\n",
        "            learning_curves[n][metric].append(eval_scores[\"eval_\"+metric])"
      ]
    },
    {
      "cell_type": "code",
      "execution_count": 94,
      "metadata": {},
      "outputs": [
        {
          "data": {
            "image/png": "[encoded data removed]",
            "text/plain": [
              "<Figure size 400x300 with 1 Axes>"
            ]
          },
          "metadata": {},
          "output_type": "display_data"
        }
      ],
      "source": [
        "plt.figure(figsize=(4, 3))\n",
        "for metric in learning_curves[10]:\n",
        "    x = n_examples\n",
        "    y = [np.mean(learning_curves[n][metric]) for n in n_examples]\n",
        "    plt.plot(x, y, \"-o\", label=metric, markersize=3, linewidth=0.7)\n",
        "plt.xlabel(\"# of training examples\")\n",
        "plt.ylabel(\"Evaluation on test examples\")\n",
        "plt.grid(axis=\"y\")\n",
        "plt.legend()\n",
        "plt.title(\"Learning Curve\")\n",
        "plt.tight_layout()\n",
        "plt.show()"
      ]
    }
  ],
  "metadata": {
    "accelerator": "GPU",
    "colab": {
      "authorship_tag": "ABX9TyOXbl6iW90OThKheQIjgRCE",
      "gpuType": "T4",
      "include_colab_link": true,
      "provenance": []
    },
    "kernelspec": {
      "display_name": "Python 3",
      "name": "python3"
    },
    "language_info": {
      "codemirror_mode": {
        "name": "ipython",
        "version": 3
      },
      "file_extension": ".py",
      "mimetype": "text/x-python",
      "name": "python",
      "nbconvert_exporter": "python",
      "pygments_lexer": "ipython3",
      "version": "3.10.5"
    },
    "widgets": {
      "application/vnd.jupyter.widget-state+json": {
        "0bc6e938d1ed479ea9340d9ed908f904": {
          "model_module": "@jupyter-widgets/base",
          "model_module_version": "1.2.0",
          "model_name": "LayoutModel",
          "state": {
            "_model_module": "@jupyter-widgets/base",
            "_model_module_version": "1.2.0",
            "_model_name": "LayoutModel",
            "_view_count": null,
            "_view_module": "@jupyter-widgets/base",
            "_view_module_version": "1.2.0",
            "_view_name": "LayoutView",
            "align_content": null,
            "align_items": null,
            "align_self": null,
            "border": null,
            "bottom": null,
            "display": null,
            "flex": null,
            "flex_flow": null,
            "grid_area": null,
            "grid_auto_columns": null,
            "grid_auto_flow": null,
            "grid_auto_rows": null,
            "grid_column": null,
            "grid_gap": null,
            "grid_row": null,
            "grid_template_areas": null,
            "grid_template_columns": null,
            "grid_template_rows": null,
            "height": null,
            "justify_content": null,
            "justify_items": null,
            "left": null,
            "margin": null,
            "max_height": null,
            "max_width": null,
            "min_height": null,
            "min_width": null,
            "object_fit": null,
            "object_position": null,
            "order": null,
            "overflow": null,
            "overflow_x": null,
            "overflow_y": null,
            "padding": null,
            "right": null,
            "top": null,
            "visibility": null,
            "width": null
          }
        },
        "12d4b11c3cf14324a2b37ae36654c3fa": {
          "model_module": "@jupyter-widgets/controls",
          "model_module_version": "1.5.0",
          "model_name": "HTMLModel",
          "state": {
            "_dom_classes": [],
            "_model_module": "@jupyter-widgets/controls",
            "_model_module_version": "1.5.0",
            "_model_name": "HTMLModel",
            "_view_count": null,
            "_view_module": "@jupyter-widgets/controls",
            "_view_module_version": "1.5.0",
            "_view_name": "HTMLView",
            "description": "",
            "description_tooltip": null,
            "layout": "IPY_MODEL_e42cfe12cec3420a9cac8ef816463c7d",
            "placeholder": "​",
            "style": "IPY_MODEL_f43d68e20549490ca8b5d9c15831180e",
            "value": "Map: 100%"
          }
        },
        "15af2ff9a7fd43348913f6100ec69e4d": {
          "model_module": "@jupyter-widgets/base",
          "model_module_version": "1.2.0",
          "model_name": "LayoutModel",
          "state": {
            "_model_module": "@jupyter-widgets/base",
            "_model_module_version": "1.2.0",
            "_model_name": "LayoutModel",
            "_view_count": null,
            "_view_module": "@jupyter-widgets/base",
            "_view_module_version": "1.2.0",
            "_view_name": "LayoutView",
            "align_content": null,
            "align_items": null,
            "align_self": null,
            "border": null,
            "bottom": null,
            "display": null,
            "flex": null,
            "flex_flow": null,
            "grid_area": null,
            "grid_auto_columns": null,
            "grid_auto_flow": null,
            "grid_auto_rows": null,
            "grid_column": null,
            "grid_gap": null,
            "grid_row": null,
            "grid_template_areas": null,
            "grid_template_columns": null,
            "grid_template_rows": null,
            "height": null,
            "justify_content": null,
            "justify_items": null,
            "left": null,
            "margin": null,
            "max_height": null,
            "max_width": null,
            "min_height": null,
            "min_width": null,
            "object_fit": null,
            "object_position": null,
            "order": null,
            "overflow": null,
            "overflow_x": null,
            "overflow_y": null,
            "padding": null,
            "right": null,
            "top": null,
            "visibility": null,
            "width": null
          }
        },
        "1a651461375849bf90f0b06225c8ca36": {
          "model_module": "@jupyter-widgets/controls",
          "model_module_version": "1.5.0",
          "model_name": "DescriptionStyleModel",
          "state": {
            "_model_module": "@jupyter-widgets/controls",
            "_model_module_version": "1.5.0",
            "_model_name": "DescriptionStyleModel",
            "_view_count": null,
            "_view_module": "@jupyter-widgets/base",
            "_view_module_version": "1.2.0",
            "_view_name": "StyleView",
            "description_width": ""
          }
        },
        "32662dcbaec94a4c87a15b3babf775f2": {
          "model_module": "@jupyter-widgets/controls",
          "model_module_version": "1.5.0",
          "model_name": "FloatProgressModel",
          "state": {
            "_dom_classes": [],
            "_model_module": "@jupyter-widgets/controls",
            "_model_module_version": "1.5.0",
            "_model_name": "FloatProgressModel",
            "_view_count": null,
            "_view_module": "@jupyter-widgets/controls",
            "_view_module_version": "1.5.0",
            "_view_name": "ProgressView",
            "bar_style": "success",
            "description": "",
            "description_tooltip": null,
            "layout": "IPY_MODEL_c806f84c0c7e4383a11184040244c9b3",
            "max": 3453,
            "min": 0,
            "orientation": "horizontal",
            "style": "IPY_MODEL_c6f0a586d24940f1843033d8ba860db5",
            "value": 3453
          }
        },
        "3c1de1b1c82349d683788639e7ac3bfd": {
          "model_module": "@jupyter-widgets/controls",
          "model_module_version": "1.5.0",
          "model_name": "HTMLModel",
          "state": {
            "_dom_classes": [],
            "_model_module": "@jupyter-widgets/controls",
            "_model_module_version": "1.5.0",
            "_model_name": "HTMLModel",
            "_view_count": null,
            "_view_module": "@jupyter-widgets/controls",
            "_view_module_version": "1.5.0",
            "_view_name": "HTMLView",
            "description": "",
            "description_tooltip": null,
            "layout": "IPY_MODEL_b8bc47858fcd42cf8867657a5623976c",
            "placeholder": "​",
            "style": "IPY_MODEL_6b6383f3d3674adaae82d9bb8a18c2f4",
            "value": " 1000/1000 [00:00&lt;00:00, 3199.67 examples/s]"
          }
        },
        "3caaed743173467eb1eced8c77d32827": {
          "model_module": "@jupyter-widgets/controls",
          "model_module_version": "1.5.0",
          "model_name": "ProgressStyleModel",
          "state": {
            "_model_module": "@jupyter-widgets/controls",
            "_model_module_version": "1.5.0",
            "_model_name": "ProgressStyleModel",
            "_view_count": null,
            "_view_module": "@jupyter-widgets/base",
            "_view_module_version": "1.2.0",
            "_view_name": "StyleView",
            "bar_color": null,
            "description_width": ""
          }
        },
        "42567faaaa5840bd879fa62afad2f513": {
          "model_module": "@jupyter-widgets/base",
          "model_module_version": "1.2.0",
          "model_name": "LayoutModel",
          "state": {
            "_model_module": "@jupyter-widgets/base",
            "_model_module_version": "1.2.0",
            "_model_name": "LayoutModel",
            "_view_count": null,
            "_view_module": "@jupyter-widgets/base",
            "_view_module_version": "1.2.0",
            "_view_name": "LayoutView",
            "align_content": null,
            "align_items": null,
            "align_self": null,
            "border": null,
            "bottom": null,
            "display": null,
            "flex": null,
            "flex_flow": null,
            "grid_area": null,
            "grid_auto_columns": null,
            "grid_auto_flow": null,
            "grid_auto_rows": null,
            "grid_column": null,
            "grid_gap": null,
            "grid_row": null,
            "grid_template_areas": null,
            "grid_template_columns": null,
            "grid_template_rows": null,
            "height": null,
            "justify_content": null,
            "justify_items": null,
            "left": null,
            "margin": null,
            "max_height": null,
            "max_width": null,
            "min_height": null,
            "min_width": null,
            "object_fit": null,
            "object_position": null,
            "order": null,
            "overflow": null,
            "overflow_x": null,
            "overflow_y": null,
            "padding": null,
            "right": null,
            "top": null,
            "visibility": null,
            "width": null
          }
        },
        "43bd5f6f58ad418e8a82940101929fd1": {
          "model_module": "@jupyter-widgets/base",
          "model_module_version": "1.2.0",
          "model_name": "LayoutModel",
          "state": {
            "_model_module": "@jupyter-widgets/base",
            "_model_module_version": "1.2.0",
            "_model_name": "LayoutModel",
            "_view_count": null,
            "_view_module": "@jupyter-widgets/base",
            "_view_module_version": "1.2.0",
            "_view_name": "LayoutView",
            "align_content": null,
            "align_items": null,
            "align_self": null,
            "border": null,
            "bottom": null,
            "display": null,
            "flex": null,
            "flex_flow": null,
            "grid_area": null,
            "grid_auto_columns": null,
            "grid_auto_flow": null,
            "grid_auto_rows": null,
            "grid_column": null,
            "grid_gap": null,
            "grid_row": null,
            "grid_template_areas": null,
            "grid_template_columns": null,
            "grid_template_rows": null,
            "height": null,
            "justify_content": null,
            "justify_items": null,
            "left": null,
            "margin": null,
            "max_height": null,
            "max_width": null,
            "min_height": null,
            "min_width": null,
            "object_fit": null,
            "object_position": null,
            "order": null,
            "overflow": null,
            "overflow_x": null,
            "overflow_y": null,
            "padding": null,
            "right": null,
            "top": null,
            "visibility": null,
            "width": null
          }
        },
        "46d2378a974b4174bf63245cd82c3332": {
          "model_module": "@jupyter-widgets/controls",
          "model_module_version": "1.5.0",
          "model_name": "FloatProgressModel",
          "state": {
            "_dom_classes": [],
            "_model_module": "@jupyter-widgets/controls",
            "_model_module_version": "1.5.0",
            "_model_name": "FloatProgressModel",
            "_view_count": null,
            "_view_module": "@jupyter-widgets/controls",
            "_view_module_version": "1.5.0",
            "_view_name": "ProgressView",
            "bar_style": "success",
            "description": "",
            "description_tooltip": null,
            "layout": "IPY_MODEL_0bc6e938d1ed479ea9340d9ed908f904",
            "max": 440449768,
            "min": 0,
            "orientation": "horizontal",
            "style": "IPY_MODEL_d496e613223543ed888da5dc44fb72cb",
            "value": 440449768
          }
        },
        "48cb7c4e1bf4415b95b26b9c849f9f62": {
          "model_module": "@jupyter-widgets/controls",
          "model_module_version": "1.5.0",
          "model_name": "HTMLModel",
          "state": {
            "_dom_classes": [],
            "_model_module": "@jupyter-widgets/controls",
            "_model_module_version": "1.5.0",
            "_model_name": "HTMLModel",
            "_view_count": null,
            "_view_module": "@jupyter-widgets/controls",
            "_view_module_version": "1.5.0",
            "_view_name": "HTMLView",
            "description": "",
            "description_tooltip": null,
            "layout": "IPY_MODEL_6b9d5456542b44979fdb3ff80c15ca56",
            "placeholder": "​",
            "style": "IPY_MODEL_b37a6f028c6b4f14a7a9ed58a4273d2e",
            "value": " 3453/3453 [00:01&lt;00:00, 3262.07 examples/s]"
          }
        },
        "4df709c321e046eba459c9781f3bd114": {
          "model_module": "@jupyter-widgets/controls",
          "model_module_version": "1.5.0",
          "model_name": "HTMLModel",
          "state": {
            "_dom_classes": [],
            "_model_module": "@jupyter-widgets/controls",
            "_model_module_version": "1.5.0",
            "_model_name": "HTMLModel",
            "_view_count": null,
            "_view_module": "@jupyter-widgets/controls",
            "_view_module_version": "1.5.0",
            "_view_name": "HTMLView",
            "description": "",
            "description_tooltip": null,
            "layout": "IPY_MODEL_cbd3e447a6ff4d8195f2df06f991fb21",
            "placeholder": "​",
            "style": "IPY_MODEL_558db325b7a24f02b5416cc5baab699a",
            "value": " 3250/3250 [00:01&lt;00:00, 2824.57 examples/s]"
          }
        },
        "558db325b7a24f02b5416cc5baab699a": {
          "model_module": "@jupyter-widgets/controls",
          "model_module_version": "1.5.0",
          "model_name": "DescriptionStyleModel",
          "state": {
            "_model_module": "@jupyter-widgets/controls",
            "_model_module_version": "1.5.0",
            "_model_name": "DescriptionStyleModel",
            "_view_count": null,
            "_view_module": "@jupyter-widgets/base",
            "_view_module_version": "1.2.0",
            "_view_name": "StyleView",
            "description_width": ""
          }
        },
        "6b6383f3d3674adaae82d9bb8a18c2f4": {
          "model_module": "@jupyter-widgets/controls",
          "model_module_version": "1.5.0",
          "model_name": "DescriptionStyleModel",
          "state": {
            "_model_module": "@jupyter-widgets/controls",
            "_model_module_version": "1.5.0",
            "_model_name": "DescriptionStyleModel",
            "_view_count": null,
            "_view_module": "@jupyter-widgets/base",
            "_view_module_version": "1.2.0",
            "_view_name": "StyleView",
            "description_width": ""
          }
        },
        "6b9d5456542b44979fdb3ff80c15ca56": {
          "model_module": "@jupyter-widgets/base",
          "model_module_version": "1.2.0",
          "model_name": "LayoutModel",
          "state": {
            "_model_module": "@jupyter-widgets/base",
            "_model_module_version": "1.2.0",
            "_model_name": "LayoutModel",
            "_view_count": null,
            "_view_module": "@jupyter-widgets/base",
            "_view_module_version": "1.2.0",
            "_view_name": "LayoutView",
            "align_content": null,
            "align_items": null,
            "align_self": null,
            "border": null,
            "bottom": null,
            "display": null,
            "flex": null,
            "flex_flow": null,
            "grid_area": null,
            "grid_auto_columns": null,
            "grid_auto_flow": null,
            "grid_auto_rows": null,
            "grid_column": null,
            "grid_gap": null,
            "grid_row": null,
            "grid_template_areas": null,
            "grid_template_columns": null,
            "grid_template_rows": null,
            "height": null,
            "justify_content": null,
            "justify_items": null,
            "left": null,
            "margin": null,
            "max_height": null,
            "max_width": null,
            "min_height": null,
            "min_width": null,
            "object_fit": null,
            "object_position": null,
            "order": null,
            "overflow": null,
            "overflow_x": null,
            "overflow_y": null,
            "padding": null,
            "right": null,
            "top": null,
            "visibility": null,
            "width": null
          }
        },
        "70572fc5ebc04a608293799e4e4685f6": {
          "model_module": "@jupyter-widgets/controls",
          "model_module_version": "1.5.0",
          "model_name": "HTMLModel",
          "state": {
            "_dom_classes": [],
            "_model_module": "@jupyter-widgets/controls",
            "_model_module_version": "1.5.0",
            "_model_name": "HTMLModel",
            "_view_count": null,
            "_view_module": "@jupyter-widgets/controls",
            "_view_module_version": "1.5.0",
            "_view_name": "HTMLView",
            "description": "",
            "description_tooltip": null,
            "layout": "IPY_MODEL_f02e6693a0b845abad6e391036543b31",
            "placeholder": "​",
            "style": "IPY_MODEL_1a651461375849bf90f0b06225c8ca36",
            "value": "model.safetensors: 100%"
          }
        },
        "72abe89069f54625a1d73768806c6342": {
          "model_module": "@jupyter-widgets/base",
          "model_module_version": "1.2.0",
          "model_name": "LayoutModel",
          "state": {
            "_model_module": "@jupyter-widgets/base",
            "_model_module_version": "1.2.0",
            "_model_name": "LayoutModel",
            "_view_count": null,
            "_view_module": "@jupyter-widgets/base",
            "_view_module_version": "1.2.0",
            "_view_name": "LayoutView",
            "align_content": null,
            "align_items": null,
            "align_self": null,
            "border": null,
            "bottom": null,
            "display": null,
            "flex": null,
            "flex_flow": null,
            "grid_area": null,
            "grid_auto_columns": null,
            "grid_auto_flow": null,
            "grid_auto_rows": null,
            "grid_column": null,
            "grid_gap": null,
            "grid_row": null,
            "grid_template_areas": null,
            "grid_template_columns": null,
            "grid_template_rows": null,
            "height": null,
            "justify_content": null,
            "justify_items": null,
            "left": null,
            "margin": null,
            "max_height": null,
            "max_width": null,
            "min_height": null,
            "min_width": null,
            "object_fit": null,
            "object_position": null,
            "order": null,
            "overflow": null,
            "overflow_x": null,
            "overflow_y": null,
            "padding": null,
            "right": null,
            "top": null,
            "visibility": null,
            "width": null
          }
        },
        "7963f2a29adc4443bf3ffee316f27de5": {
          "model_module": "@jupyter-widgets/controls",
          "model_module_version": "1.5.0",
          "model_name": "DescriptionStyleModel",
          "state": {
            "_model_module": "@jupyter-widgets/controls",
            "_model_module_version": "1.5.0",
            "_model_name": "DescriptionStyleModel",
            "_view_count": null,
            "_view_module": "@jupyter-widgets/base",
            "_view_module_version": "1.2.0",
            "_view_name": "StyleView",
            "description_width": ""
          }
        },
        "8edbedc615184165b62353b517799d44": {
          "model_module": "@jupyter-widgets/controls",
          "model_module_version": "1.5.0",
          "model_name": "ProgressStyleModel",
          "state": {
            "_model_module": "@jupyter-widgets/controls",
            "_model_module_version": "1.5.0",
            "_model_name": "ProgressStyleModel",
            "_view_count": null,
            "_view_module": "@jupyter-widgets/base",
            "_view_module_version": "1.2.0",
            "_view_name": "StyleView",
            "bar_color": null,
            "description_width": ""
          }
        },
        "95e78b9075514d5da591d49e6df656a7": {
          "model_module": "@jupyter-widgets/controls",
          "model_module_version": "1.5.0",
          "model_name": "HTMLModel",
          "state": {
            "_dom_classes": [],
            "_model_module": "@jupyter-widgets/controls",
            "_model_module_version": "1.5.0",
            "_model_name": "HTMLModel",
            "_view_count": null,
            "_view_module": "@jupyter-widgets/controls",
            "_view_module_version": "1.5.0",
            "_view_name": "HTMLView",
            "description": "",
            "description_tooltip": null,
            "layout": "IPY_MODEL_ea1b817376b64639981903323e5d789e",
            "placeholder": "​",
            "style": "IPY_MODEL_ff3954d891c9458eb94ebdb4d7c72e3b",
            "value": " 440M/440M [00:05&lt;00:00, 102MB/s]"
          }
        },
        "98d2a0bfb6db47a3a67a6a2770c29507": {
          "model_module": "@jupyter-widgets/controls",
          "model_module_version": "1.5.0",
          "model_name": "DescriptionStyleModel",
          "state": {
            "_model_module": "@jupyter-widgets/controls",
            "_model_module_version": "1.5.0",
            "_model_name": "DescriptionStyleModel",
            "_view_count": null,
            "_view_module": "@jupyter-widgets/base",
            "_view_module_version": "1.2.0",
            "_view_name": "StyleView",
            "description_width": ""
          }
        },
        "b17b352310d246a3bb81558adca1ee7a": {
          "model_module": "@jupyter-widgets/base",
          "model_module_version": "1.2.0",
          "model_name": "LayoutModel",
          "state": {
            "_model_module": "@jupyter-widgets/base",
            "_model_module_version": "1.2.0",
            "_model_name": "LayoutModel",
            "_view_count": null,
            "_view_module": "@jupyter-widgets/base",
            "_view_module_version": "1.2.0",
            "_view_name": "LayoutView",
            "align_content": null,
            "align_items": null,
            "align_self": null,
            "border": null,
            "bottom": null,
            "display": null,
            "flex": null,
            "flex_flow": null,
            "grid_area": null,
            "grid_auto_columns": null,
            "grid_auto_flow": null,
            "grid_auto_rows": null,
            "grid_column": null,
            "grid_gap": null,
            "grid_row": null,
            "grid_template_areas": null,
            "grid_template_columns": null,
            "grid_template_rows": null,
            "height": null,
            "justify_content": null,
            "justify_items": null,
            "left": null,
            "margin": null,
            "max_height": null,
            "max_width": null,
            "min_height": null,
            "min_width": null,
            "object_fit": null,
            "object_position": null,
            "order": null,
            "overflow": null,
            "overflow_x": null,
            "overflow_y": null,
            "padding": null,
            "right": null,
            "top": null,
            "visibility": null,
            "width": null
          }
        },
        "b37a6f028c6b4f14a7a9ed58a4273d2e": {
          "model_module": "@jupyter-widgets/controls",
          "model_module_version": "1.5.0",
          "model_name": "DescriptionStyleModel",
          "state": {
            "_model_module": "@jupyter-widgets/controls",
            "_model_module_version": "1.5.0",
            "_model_name": "DescriptionStyleModel",
            "_view_count": null,
            "_view_module": "@jupyter-widgets/base",
            "_view_module_version": "1.2.0",
            "_view_name": "StyleView",
            "description_width": ""
          }
        },
        "b8bc47858fcd42cf8867657a5623976c": {
          "model_module": "@jupyter-widgets/base",
          "model_module_version": "1.2.0",
          "model_name": "LayoutModel",
          "state": {
            "_model_module": "@jupyter-widgets/base",
            "_model_module_version": "1.2.0",
            "_model_name": "LayoutModel",
            "_view_count": null,
            "_view_module": "@jupyter-widgets/base",
            "_view_module_version": "1.2.0",
            "_view_name": "LayoutView",
            "align_content": null,
            "align_items": null,
            "align_self": null,
            "border": null,
            "bottom": null,
            "display": null,
            "flex": null,
            "flex_flow": null,
            "grid_area": null,
            "grid_auto_columns": null,
            "grid_auto_flow": null,
            "grid_auto_rows": null,
            "grid_column": null,
            "grid_gap": null,
            "grid_row": null,
            "grid_template_areas": null,
            "grid_template_columns": null,
            "grid_template_rows": null,
            "height": null,
            "justify_content": null,
            "justify_items": null,
            "left": null,
            "margin": null,
            "max_height": null,
            "max_width": null,
            "min_height": null,
            "min_width": null,
            "object_fit": null,
            "object_position": null,
            "order": null,
            "overflow": null,
            "overflow_x": null,
            "overflow_y": null,
            "padding": null,
            "right": null,
            "top": null,
            "visibility": null,
            "width": null
          }
        },
        "bb074b6116eb412ea2f274363515d3bc": {
          "model_module": "@jupyter-widgets/base",
          "model_module_version": "1.2.0",
          "model_name": "LayoutModel",
          "state": {
            "_model_module": "@jupyter-widgets/base",
            "_model_module_version": "1.2.0",
            "_model_name": "LayoutModel",
            "_view_count": null,
            "_view_module": "@jupyter-widgets/base",
            "_view_module_version": "1.2.0",
            "_view_name": "LayoutView",
            "align_content": null,
            "align_items": null,
            "align_self": null,
            "border": null,
            "bottom": null,
            "display": null,
            "flex": null,
            "flex_flow": null,
            "grid_area": null,
            "grid_auto_columns": null,
            "grid_auto_flow": null,
            "grid_auto_rows": null,
            "grid_column": null,
            "grid_gap": null,
            "grid_row": null,
            "grid_template_areas": null,
            "grid_template_columns": null,
            "grid_template_rows": null,
            "height": null,
            "justify_content": null,
            "justify_items": null,
            "left": null,
            "margin": null,
            "max_height": null,
            "max_width": null,
            "min_height": null,
            "min_width": null,
            "object_fit": null,
            "object_position": null,
            "order": null,
            "overflow": null,
            "overflow_x": null,
            "overflow_y": null,
            "padding": null,
            "right": null,
            "top": null,
            "visibility": null,
            "width": null
          }
        },
        "bef466a5fb1346a6b6e520e901e6cbd8": {
          "model_module": "@jupyter-widgets/controls",
          "model_module_version": "1.5.0",
          "model_name": "FloatProgressModel",
          "state": {
            "_dom_classes": [],
            "_model_module": "@jupyter-widgets/controls",
            "_model_module_version": "1.5.0",
            "_model_name": "FloatProgressModel",
            "_view_count": null,
            "_view_module": "@jupyter-widgets/controls",
            "_view_module_version": "1.5.0",
            "_view_name": "ProgressView",
            "bar_style": "success",
            "description": "",
            "description_tooltip": null,
            "layout": "IPY_MODEL_c92c45fc5cd04d44a816ea7e7ba38bb2",
            "max": 1000,
            "min": 0,
            "orientation": "horizontal",
            "style": "IPY_MODEL_3caaed743173467eb1eced8c77d32827",
            "value": 1000
          }
        },
        "c6f0a586d24940f1843033d8ba860db5": {
          "model_module": "@jupyter-widgets/controls",
          "model_module_version": "1.5.0",
          "model_name": "ProgressStyleModel",
          "state": {
            "_model_module": "@jupyter-widgets/controls",
            "_model_module_version": "1.5.0",
            "_model_name": "ProgressStyleModel",
            "_view_count": null,
            "_view_module": "@jupyter-widgets/base",
            "_view_module_version": "1.2.0",
            "_view_name": "StyleView",
            "bar_color": null,
            "description_width": ""
          }
        },
        "c806f84c0c7e4383a11184040244c9b3": {
          "model_module": "@jupyter-widgets/base",
          "model_module_version": "1.2.0",
          "model_name": "LayoutModel",
          "state": {
            "_model_module": "@jupyter-widgets/base",
            "_model_module_version": "1.2.0",
            "_model_name": "LayoutModel",
            "_view_count": null,
            "_view_module": "@jupyter-widgets/base",
            "_view_module_version": "1.2.0",
            "_view_name": "LayoutView",
            "align_content": null,
            "align_items": null,
            "align_self": null,
            "border": null,
            "bottom": null,
            "display": null,
            "flex": null,
            "flex_flow": null,
            "grid_area": null,
            "grid_auto_columns": null,
            "grid_auto_flow": null,
            "grid_auto_rows": null,
            "grid_column": null,
            "grid_gap": null,
            "grid_row": null,
            "grid_template_areas": null,
            "grid_template_columns": null,
            "grid_template_rows": null,
            "height": null,
            "justify_content": null,
            "justify_items": null,
            "left": null,
            "margin": null,
            "max_height": null,
            "max_width": null,
            "min_height": null,
            "min_width": null,
            "object_fit": null,
            "object_position": null,
            "order": null,
            "overflow": null,
            "overflow_x": null,
            "overflow_y": null,
            "padding": null,
            "right": null,
            "top": null,
            "visibility": null,
            "width": null
          }
        },
        "c92c45fc5cd04d44a816ea7e7ba38bb2": {
          "model_module": "@jupyter-widgets/base",
          "model_module_version": "1.2.0",
          "model_name": "LayoutModel",
          "state": {
            "_model_module": "@jupyter-widgets/base",
            "_model_module_version": "1.2.0",
            "_model_name": "LayoutModel",
            "_view_count": null,
            "_view_module": "@jupyter-widgets/base",
            "_view_module_version": "1.2.0",
            "_view_name": "LayoutView",
            "align_content": null,
            "align_items": null,
            "align_self": null,
            "border": null,
            "bottom": null,
            "display": null,
            "flex": null,
            "flex_flow": null,
            "grid_area": null,
            "grid_auto_columns": null,
            "grid_auto_flow": null,
            "grid_auto_rows": null,
            "grid_column": null,
            "grid_gap": null,
            "grid_row": null,
            "grid_template_areas": null,
            "grid_template_columns": null,
            "grid_template_rows": null,
            "height": null,
            "justify_content": null,
            "justify_items": null,
            "left": null,
            "margin": null,
            "max_height": null,
            "max_width": null,
            "min_height": null,
            "min_width": null,
            "object_fit": null,
            "object_position": null,
            "order": null,
            "overflow": null,
            "overflow_x": null,
            "overflow_y": null,
            "padding": null,
            "right": null,
            "top": null,
            "visibility": null,
            "width": null
          }
        },
        "c94bd80767f54d12bfa99c490f3ec75a": {
          "model_module": "@jupyter-widgets/base",
          "model_module_version": "1.2.0",
          "model_name": "LayoutModel",
          "state": {
            "_model_module": "@jupyter-widgets/base",
            "_model_module_version": "1.2.0",
            "_model_name": "LayoutModel",
            "_view_count": null,
            "_view_module": "@jupyter-widgets/base",
            "_view_module_version": "1.2.0",
            "_view_name": "LayoutView",
            "align_content": null,
            "align_items": null,
            "align_self": null,
            "border": null,
            "bottom": null,
            "display": null,
            "flex": null,
            "flex_flow": null,
            "grid_area": null,
            "grid_auto_columns": null,
            "grid_auto_flow": null,
            "grid_auto_rows": null,
            "grid_column": null,
            "grid_gap": null,
            "grid_row": null,
            "grid_template_areas": null,
            "grid_template_columns": null,
            "grid_template_rows": null,
            "height": null,
            "justify_content": null,
            "justify_items": null,
            "left": null,
            "margin": null,
            "max_height": null,
            "max_width": null,
            "min_height": null,
            "min_width": null,
            "object_fit": null,
            "object_position": null,
            "order": null,
            "overflow": null,
            "overflow_x": null,
            "overflow_y": null,
            "padding": null,
            "right": null,
            "top": null,
            "visibility": null,
            "width": null
          }
        },
        "cbd3e447a6ff4d8195f2df06f991fb21": {
          "model_module": "@jupyter-widgets/base",
          "model_module_version": "1.2.0",
          "model_name": "LayoutModel",
          "state": {
            "_model_module": "@jupyter-widgets/base",
            "_model_module_version": "1.2.0",
            "_model_name": "LayoutModel",
            "_view_count": null,
            "_view_module": "@jupyter-widgets/base",
            "_view_module_version": "1.2.0",
            "_view_name": "LayoutView",
            "align_content": null,
            "align_items": null,
            "align_self": null,
            "border": null,
            "bottom": null,
            "display": null,
            "flex": null,
            "flex_flow": null,
            "grid_area": null,
            "grid_auto_columns": null,
            "grid_auto_flow": null,
            "grid_auto_rows": null,
            "grid_column": null,
            "grid_gap": null,
            "grid_row": null,
            "grid_template_areas": null,
            "grid_template_columns": null,
            "grid_template_rows": null,
            "height": null,
            "justify_content": null,
            "justify_items": null,
            "left": null,
            "margin": null,
            "max_height": null,
            "max_width": null,
            "min_height": null,
            "min_width": null,
            "object_fit": null,
            "object_position": null,
            "order": null,
            "overflow": null,
            "overflow_x": null,
            "overflow_y": null,
            "padding": null,
            "right": null,
            "top": null,
            "visibility": null,
            "width": null
          }
        },
        "d1ebf80bf2dd4ad4b675c8d1c25c8dcd": {
          "model_module": "@jupyter-widgets/controls",
          "model_module_version": "1.5.0",
          "model_name": "HBoxModel",
          "state": {
            "_dom_classes": [],
            "_model_module": "@jupyter-widgets/controls",
            "_model_module_version": "1.5.0",
            "_model_name": "HBoxModel",
            "_view_count": null,
            "_view_module": "@jupyter-widgets/controls",
            "_view_module_version": "1.5.0",
            "_view_name": "HBoxView",
            "box_style": "",
            "children": [
              "IPY_MODEL_70572fc5ebc04a608293799e4e4685f6",
              "IPY_MODEL_46d2378a974b4174bf63245cd82c3332",
              "IPY_MODEL_95e78b9075514d5da591d49e6df656a7"
            ],
            "layout": "IPY_MODEL_c94bd80767f54d12bfa99c490f3ec75a"
          }
        },
        "d4672b323834446eb7d983048dbd1dc3": {
          "model_module": "@jupyter-widgets/controls",
          "model_module_version": "1.5.0",
          "model_name": "HTMLModel",
          "state": {
            "_dom_classes": [],
            "_model_module": "@jupyter-widgets/controls",
            "_model_module_version": "1.5.0",
            "_model_name": "HTMLModel",
            "_view_count": null,
            "_view_module": "@jupyter-widgets/controls",
            "_view_module_version": "1.5.0",
            "_view_name": "HTMLView",
            "description": "",
            "description_tooltip": null,
            "layout": "IPY_MODEL_72abe89069f54625a1d73768806c6342",
            "placeholder": "​",
            "style": "IPY_MODEL_98d2a0bfb6db47a3a67a6a2770c29507",
            "value": "Map: 100%"
          }
        },
        "d496e613223543ed888da5dc44fb72cb": {
          "model_module": "@jupyter-widgets/controls",
          "model_module_version": "1.5.0",
          "model_name": "ProgressStyleModel",
          "state": {
            "_model_module": "@jupyter-widgets/controls",
            "_model_module_version": "1.5.0",
            "_model_name": "ProgressStyleModel",
            "_view_count": null,
            "_view_module": "@jupyter-widgets/base",
            "_view_module_version": "1.2.0",
            "_view_name": "StyleView",
            "bar_color": null,
            "description_width": ""
          }
        },
        "d7a8c622c362403fae8d87511fc5c2e4": {
          "model_module": "@jupyter-widgets/controls",
          "model_module_version": "1.5.0",
          "model_name": "HBoxModel",
          "state": {
            "_dom_classes": [],
            "_model_module": "@jupyter-widgets/controls",
            "_model_module_version": "1.5.0",
            "_model_name": "HBoxModel",
            "_view_count": null,
            "_view_module": "@jupyter-widgets/controls",
            "_view_module_version": "1.5.0",
            "_view_name": "HBoxView",
            "box_style": "",
            "children": [
              "IPY_MODEL_f7b3b987b9194653b580eb01bc3f2f1b",
              "IPY_MODEL_bef466a5fb1346a6b6e520e901e6cbd8",
              "IPY_MODEL_3c1de1b1c82349d683788639e7ac3bfd"
            ],
            "layout": "IPY_MODEL_43bd5f6f58ad418e8a82940101929fd1"
          }
        },
        "e00c3211bc2542c6817681d0ac3879e2": {
          "model_module": "@jupyter-widgets/controls",
          "model_module_version": "1.5.0",
          "model_name": "HBoxModel",
          "state": {
            "_dom_classes": [],
            "_model_module": "@jupyter-widgets/controls",
            "_model_module_version": "1.5.0",
            "_model_name": "HBoxModel",
            "_view_count": null,
            "_view_module": "@jupyter-widgets/controls",
            "_view_module_version": "1.5.0",
            "_view_name": "HBoxView",
            "box_style": "",
            "children": [
              "IPY_MODEL_d4672b323834446eb7d983048dbd1dc3",
              "IPY_MODEL_32662dcbaec94a4c87a15b3babf775f2",
              "IPY_MODEL_48cb7c4e1bf4415b95b26b9c849f9f62"
            ],
            "layout": "IPY_MODEL_42567faaaa5840bd879fa62afad2f513"
          }
        },
        "e42cfe12cec3420a9cac8ef816463c7d": {
          "model_module": "@jupyter-widgets/base",
          "model_module_version": "1.2.0",
          "model_name": "LayoutModel",
          "state": {
            "_model_module": "@jupyter-widgets/base",
            "_model_module_version": "1.2.0",
            "_model_name": "LayoutModel",
            "_view_count": null,
            "_view_module": "@jupyter-widgets/base",
            "_view_module_version": "1.2.0",
            "_view_name": "LayoutView",
            "align_content": null,
            "align_items": null,
            "align_self": null,
            "border": null,
            "bottom": null,
            "display": null,
            "flex": null,
            "flex_flow": null,
            "grid_area": null,
            "grid_auto_columns": null,
            "grid_auto_flow": null,
            "grid_auto_rows": null,
            "grid_column": null,
            "grid_gap": null,
            "grid_row": null,
            "grid_template_areas": null,
            "grid_template_columns": null,
            "grid_template_rows": null,
            "height": null,
            "justify_content": null,
            "justify_items": null,
            "left": null,
            "margin": null,
            "max_height": null,
            "max_width": null,
            "min_height": null,
            "min_width": null,
            "object_fit": null,
            "object_position": null,
            "order": null,
            "overflow": null,
            "overflow_x": null,
            "overflow_y": null,
            "padding": null,
            "right": null,
            "top": null,
            "visibility": null,
            "width": null
          }
        },
        "e9bf2dba77a34fc785183cbd000f91b4": {
          "model_module": "@jupyter-widgets/controls",
          "model_module_version": "1.5.0",
          "model_name": "HBoxModel",
          "state": {
            "_dom_classes": [],
            "_model_module": "@jupyter-widgets/controls",
            "_model_module_version": "1.5.0",
            "_model_name": "HBoxModel",
            "_view_count": null,
            "_view_module": "@jupyter-widgets/controls",
            "_view_module_version": "1.5.0",
            "_view_name": "HBoxView",
            "box_style": "",
            "children": [
              "IPY_MODEL_12d4b11c3cf14324a2b37ae36654c3fa",
              "IPY_MODEL_f750de2900c64b72bad32b3bda66d65f",
              "IPY_MODEL_4df709c321e046eba459c9781f3bd114"
            ],
            "layout": "IPY_MODEL_b17b352310d246a3bb81558adca1ee7a"
          }
        },
        "ea1b817376b64639981903323e5d789e": {
          "model_module": "@jupyter-widgets/base",
          "model_module_version": "1.2.0",
          "model_name": "LayoutModel",
          "state": {
            "_model_module": "@jupyter-widgets/base",
            "_model_module_version": "1.2.0",
            "_model_name": "LayoutModel",
            "_view_count": null,
            "_view_module": "@jupyter-widgets/base",
            "_view_module_version": "1.2.0",
            "_view_name": "LayoutView",
            "align_content": null,
            "align_items": null,
            "align_self": null,
            "border": null,
            "bottom": null,
            "display": null,
            "flex": null,
            "flex_flow": null,
            "grid_area": null,
            "grid_auto_columns": null,
            "grid_auto_flow": null,
            "grid_auto_rows": null,
            "grid_column": null,
            "grid_gap": null,
            "grid_row": null,
            "grid_template_areas": null,
            "grid_template_columns": null,
            "grid_template_rows": null,
            "height": null,
            "justify_content": null,
            "justify_items": null,
            "left": null,
            "margin": null,
            "max_height": null,
            "max_width": null,
            "min_height": null,
            "min_width": null,
            "object_fit": null,
            "object_position": null,
            "order": null,
            "overflow": null,
            "overflow_x": null,
            "overflow_y": null,
            "padding": null,
            "right": null,
            "top": null,
            "visibility": null,
            "width": null
          }
        },
        "f02e6693a0b845abad6e391036543b31": {
          "model_module": "@jupyter-widgets/base",
          "model_module_version": "1.2.0",
          "model_name": "LayoutModel",
          "state": {
            "_model_module": "@jupyter-widgets/base",
            "_model_module_version": "1.2.0",
            "_model_name": "LayoutModel",
            "_view_count": null,
            "_view_module": "@jupyter-widgets/base",
            "_view_module_version": "1.2.0",
            "_view_name": "LayoutView",
            "align_content": null,
            "align_items": null,
            "align_self": null,
            "border": null,
            "bottom": null,
            "display": null,
            "flex": null,
            "flex_flow": null,
            "grid_area": null,
            "grid_auto_columns": null,
            "grid_auto_flow": null,
            "grid_auto_rows": null,
            "grid_column": null,
            "grid_gap": null,
            "grid_row": null,
            "grid_template_areas": null,
            "grid_template_columns": null,
            "grid_template_rows": null,
            "height": null,
            "justify_content": null,
            "justify_items": null,
            "left": null,
            "margin": null,
            "max_height": null,
            "max_width": null,
            "min_height": null,
            "min_width": null,
            "object_fit": null,
            "object_position": null,
            "order": null,
            "overflow": null,
            "overflow_x": null,
            "overflow_y": null,
            "padding": null,
            "right": null,
            "top": null,
            "visibility": null,
            "width": null
          }
        },
        "f43d68e20549490ca8b5d9c15831180e": {
          "model_module": "@jupyter-widgets/controls",
          "model_module_version": "1.5.0",
          "model_name": "DescriptionStyleModel",
          "state": {
            "_model_module": "@jupyter-widgets/controls",
            "_model_module_version": "1.5.0",
            "_model_name": "DescriptionStyleModel",
            "_view_count": null,
            "_view_module": "@jupyter-widgets/base",
            "_view_module_version": "1.2.0",
            "_view_name": "StyleView",
            "description_width": ""
          }
        },
        "f750de2900c64b72bad32b3bda66d65f": {
          "model_module": "@jupyter-widgets/controls",
          "model_module_version": "1.5.0",
          "model_name": "FloatProgressModel",
          "state": {
            "_dom_classes": [],
            "_model_module": "@jupyter-widgets/controls",
            "_model_module_version": "1.5.0",
            "_model_name": "FloatProgressModel",
            "_view_count": null,
            "_view_module": "@jupyter-widgets/controls",
            "_view_module_version": "1.5.0",
            "_view_name": "ProgressView",
            "bar_style": "success",
            "description": "",
            "description_tooltip": null,
            "layout": "IPY_MODEL_15af2ff9a7fd43348913f6100ec69e4d",
            "max": 3250,
            "min": 0,
            "orientation": "horizontal",
            "style": "IPY_MODEL_8edbedc615184165b62353b517799d44",
            "value": 3250
          }
        },
        "f7b3b987b9194653b580eb01bc3f2f1b": {
          "model_module": "@jupyter-widgets/controls",
          "model_module_version": "1.5.0",
          "model_name": "HTMLModel",
          "state": {
            "_dom_classes": [],
            "_model_module": "@jupyter-widgets/controls",
            "_model_module_version": "1.5.0",
            "_model_name": "HTMLModel",
            "_view_count": null,
            "_view_module": "@jupyter-widgets/controls",
            "_view_module_version": "1.5.0",
            "_view_name": "HTMLView",
            "description": "",
            "description_tooltip": null,
            "layout": "IPY_MODEL_bb074b6116eb412ea2f274363515d3bc",
            "placeholder": "​",
            "style": "IPY_MODEL_7963f2a29adc4443bf3ffee316f27de5",
            "value": "Map: 100%"
          }
        },
        "ff3954d891c9458eb94ebdb4d7c72e3b": {
          "model_module": "@jupyter-widgets/controls",
          "model_module_version": "1.5.0",
          "model_name": "DescriptionStyleModel",
          "state": {
            "_model_module": "@jupyter-widgets/controls",
            "_model_module_version": "1.5.0",
            "_model_name": "DescriptionStyleModel",
            "_view_count": null,
            "_view_module": "@jupyter-widgets/base",
            "_view_module_version": "1.2.0",
            "_view_name": "StyleView",
            "description_width": ""
          }
        }
      }
    }
  },
  "nbformat": 4,
  "nbformat_minor": 0
}
